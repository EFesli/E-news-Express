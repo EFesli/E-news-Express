{
  "nbformat": 4,
  "nbformat_minor": 5,
  "metadata": {
    "kernelspec": {
      "display_name": "Python 3",
      "language": "python",
      "name": "python3"
    },
    "language_info": {
      "codemirror_mode": {
        "name": "ipython",
        "version": 3
      },
      "file_extension": ".py",
      "mimetype": "text/x-python",
      "name": "python",
      "nbconvert_exporter": "python",
      "pygments_lexer": "ipython3",
      "version": "3.8.8"
    },
    "colab": {
      "provenance": [],
      "collapsed_sections": [
        "a6a3d218",
        "6970dd99",
        "c7ee4907",
        "3acbc947"
      ]
    }
  },
  "cells": [
    {
      "cell_type": "markdown",
      "metadata": {
        "id": "6yDxo9u0d9Na"
      },
      "source": [
        "# Project Business Statistics: E-news Express\n",
        "\n",
        "**Marks: 60**"
      ],
      "id": "6yDxo9u0d9Na"
    },
    {
      "cell_type": "markdown",
      "metadata": {
        "id": "SrLd-ICEmPSD"
      },
      "source": [
        "## Define Problem Statement and Objectives\n",
        "\n",
        "> Indented block\n",
        "\n"
      ],
      "id": "SrLd-ICEmPSD"
    },
    {
      "cell_type": "markdown",
      "metadata": {
        "id": "9Vt1PLLqmXNn"
      },
      "source": [
        "**Business Context**\n",
        "\n",
        "The advent of e-news, or electronic news, portals has offered us a great opportunity to quickly get updates on the day-to-day events occurring globally. The information on these portals is retrieved electronically from online databases, processed using a variety of software, and then transmitted to the users. There are multiple advantages of transmitting new electronically, like faster access to the content and the ability to utilize different technologies such as audio, graphics, video, and other interactive elements that are either not being used or aren’t common yet in traditional newspapers.\n",
        "\n",
        "E-news Express, an online news portal, aims to expand its business by acquiring new subscribers. With every visitor to the website taking certain actions based on their interest, the company plans to analyze these actions to understand user interests and determine how to drive better engagement. The executives at E-news Express are of the opinion that there has been a decline in new monthly subscribers compared to the past year because the current webpage is not designed well enough in terms of the outline & recommended content to keep customers engaged long enough to make a decision to subscribe.\n",
        "\n",
        "[Companies often analyze user responses to two variants of a product to decide which of the two variants is more effective. This experimental technique, known as A/B testing, is used to determine whether a new feature attracts users based on a chosen metric.]\n",
        "\n",
        "**Objective**\n",
        "\n",
        "The design team of the company has researched and created a new landing page that has a new outline & more relevant content shown compared to the old page. In order to test the effectiveness of the new landing page in gathering new subscribers, the Data Science team conducted an experiment by randomly selecting 100 users and dividing them equally into two groups. The existing landing page was served to the first group (control group) and the new landing page to the second group (treatment group). Data regarding the interaction of users in both groups with the two versions of the landing page was collected. Being a data scientist in E-news Express, you have been asked to explore the data and perform a statistical analysis (at a significance level of 5%) to determine the effectiveness of the new landing page in gathering new subscribers for the news portal by answering the following questions:\n",
        "\n",
        "\n",
        "1.  Do the users spend more time on the new landing page than on the existing\n",
        "landing page?\n",
        "2.  Is the conversion rate (the proportion of users who visit the landing page and get converted) for the new page greater than the conversion rate for the old page?\n",
        "\n",
        "3.  Does the converted status depend on the preferred language?\n",
        "\n",
        "4.  Is the time spent on the new page the same for the different language users?\n",
        "\n",
        "**Data Dictionary**\n",
        "\n",
        "The data contains information regarding the interaction of users in both groups with the two versions of the landing page.\n",
        "\n",
        "  1.  user_id - Unique user ID of the person visiting the website\n",
        "\n",
        "  2. group - Whether the user belongs to the first group (control) or the second group (treatment)\n",
        "\n",
        "  3. landing_page - Whether the landing page is new or old\n",
        "\n",
        "  4. time_spent_on_the_page - Time (in minutes) spent by the user on the landing page\n",
        "\n",
        "  5. converted - Whether the user gets converted to a subscriber of the news portal or not\n",
        "\n",
        "  6. language_preferred - Language chosen by the user to view the landing page\n"
      ],
      "id": "9Vt1PLLqmXNn"
    },
    {
      "cell_type": "markdown",
      "metadata": {
        "id": "a6a3d218"
      },
      "source": [
        "## Import all the necessary libraries"
      ],
      "id": "a6a3d218"
    },
    {
      "cell_type": "code",
      "metadata": {
        "id": "658c5dec"
      },
      "source": [
        "# import the important packages\n",
        "import pandas as pd #library used for data manipulation and analysis\n",
        "import numpy as np # library used for working with arrays.\n",
        "import matplotlib.pyplot as plt # library for plots and visualisations\n",
        "import seaborn as sns # library for visualisations\n",
        "%matplotlib inline\n",
        "\n",
        "import scipy.stats as stats # this library contains a large number of probability distributions as well as a growing library of statistical functions."
      ],
      "id": "658c5dec",
      "execution_count": 1,
      "outputs": []
    },
    {
      "cell_type": "markdown",
      "metadata": {
        "id": "6970dd99"
      },
      "source": [
        "## Reading the Data into a DataFrame"
      ],
      "id": "6970dd99"
    },
    {
      "cell_type": "code",
      "source": [
        "# read the data\n",
        "data = pd.read_csv('abtest.csv')\n",
        "df=data.copy()"
      ],
      "metadata": {
        "id": "-8YU0oKfrvsZ"
      },
      "id": "-8YU0oKfrvsZ",
      "execution_count": 2,
      "outputs": []
    },
    {
      "cell_type": "markdown",
      "metadata": {
        "id": "9d75cfa2"
      },
      "source": [
        "## Explore the dataset and extract insights using Exploratory Data Analysis"
      ],
      "id": "9d75cfa2"
    },
    {
      "cell_type": "markdown",
      "metadata": {
        "id": "27201534"
      },
      "source": [
        "- Data Overview\n",
        "  - Viewing the first and last few rows of the dataset\n",
        "  - Checking the shape of the dataset\n",
        "  - Getting the statistical summary for the variables\n",
        "- Check for missing values\n",
        "- Check for duplicates"
      ],
      "id": "27201534"
    },
    {
      "cell_type": "code",
      "source": [
        "# return the first five rows\n",
        "df.head()"
      ],
      "metadata": {
        "id": "yTm7RXC3xn8X",
        "colab": {
          "base_uri": "https://localhost:8080/",
          "height": 206
        },
        "outputId": "bc74186c-3eed-4228-ef0a-8aee697692d9"
      },
      "id": "yTm7RXC3xn8X",
      "execution_count": 3,
      "outputs": [
        {
          "output_type": "execute_result",
          "data": {
            "text/plain": [
              "   user_id      group landing_page  time_spent_on_the_page converted  \\\n",
              "0   546592    control          old                    3.48        no   \n",
              "1   546468  treatment          new                    7.13       yes   \n",
              "2   546462  treatment          new                    4.40        no   \n",
              "3   546567    control          old                    3.02        no   \n",
              "4   546459  treatment          new                    4.75       yes   \n",
              "\n",
              "  language_preferred  \n",
              "0            Spanish  \n",
              "1            English  \n",
              "2            Spanish  \n",
              "3             French  \n",
              "4            Spanish  "
            ],
            "text/html": [
              "\n",
              "\n",
              "  <div id=\"df-62808b24-cb61-4540-aed2-fcd1b481f325\">\n",
              "    <div class=\"colab-df-container\">\n",
              "      <div>\n",
              "<style scoped>\n",
              "    .dataframe tbody tr th:only-of-type {\n",
              "        vertical-align: middle;\n",
              "    }\n",
              "\n",
              "    .dataframe tbody tr th {\n",
              "        vertical-align: top;\n",
              "    }\n",
              "\n",
              "    .dataframe thead th {\n",
              "        text-align: right;\n",
              "    }\n",
              "</style>\n",
              "<table border=\"1\" class=\"dataframe\">\n",
              "  <thead>\n",
              "    <tr style=\"text-align: right;\">\n",
              "      <th></th>\n",
              "      <th>user_id</th>\n",
              "      <th>group</th>\n",
              "      <th>landing_page</th>\n",
              "      <th>time_spent_on_the_page</th>\n",
              "      <th>converted</th>\n",
              "      <th>language_preferred</th>\n",
              "    </tr>\n",
              "  </thead>\n",
              "  <tbody>\n",
              "    <tr>\n",
              "      <th>0</th>\n",
              "      <td>546592</td>\n",
              "      <td>control</td>\n",
              "      <td>old</td>\n",
              "      <td>3.48</td>\n",
              "      <td>no</td>\n",
              "      <td>Spanish</td>\n",
              "    </tr>\n",
              "    <tr>\n",
              "      <th>1</th>\n",
              "      <td>546468</td>\n",
              "      <td>treatment</td>\n",
              "      <td>new</td>\n",
              "      <td>7.13</td>\n",
              "      <td>yes</td>\n",
              "      <td>English</td>\n",
              "    </tr>\n",
              "    <tr>\n",
              "      <th>2</th>\n",
              "      <td>546462</td>\n",
              "      <td>treatment</td>\n",
              "      <td>new</td>\n",
              "      <td>4.40</td>\n",
              "      <td>no</td>\n",
              "      <td>Spanish</td>\n",
              "    </tr>\n",
              "    <tr>\n",
              "      <th>3</th>\n",
              "      <td>546567</td>\n",
              "      <td>control</td>\n",
              "      <td>old</td>\n",
              "      <td>3.02</td>\n",
              "      <td>no</td>\n",
              "      <td>French</td>\n",
              "    </tr>\n",
              "    <tr>\n",
              "      <th>4</th>\n",
              "      <td>546459</td>\n",
              "      <td>treatment</td>\n",
              "      <td>new</td>\n",
              "      <td>4.75</td>\n",
              "      <td>yes</td>\n",
              "      <td>Spanish</td>\n",
              "    </tr>\n",
              "  </tbody>\n",
              "</table>\n",
              "</div>\n",
              "      <button class=\"colab-df-convert\" onclick=\"convertToInteractive('df-62808b24-cb61-4540-aed2-fcd1b481f325')\"\n",
              "              title=\"Convert this dataframe to an interactive table.\"\n",
              "              style=\"display:none;\">\n",
              "\n",
              "  <svg xmlns=\"http://www.w3.org/2000/svg\" height=\"24px\"viewBox=\"0 0 24 24\"\n",
              "       width=\"24px\">\n",
              "    <path d=\"M0 0h24v24H0V0z\" fill=\"none\"/>\n",
              "    <path d=\"M18.56 5.44l.94 2.06.94-2.06 2.06-.94-2.06-.94-.94-2.06-.94 2.06-2.06.94zm-11 1L8.5 8.5l.94-2.06 2.06-.94-2.06-.94L8.5 2.5l-.94 2.06-2.06.94zm10 10l.94 2.06.94-2.06 2.06-.94-2.06-.94-.94-2.06-.94 2.06-2.06.94z\"/><path d=\"M17.41 7.96l-1.37-1.37c-.4-.4-.92-.59-1.43-.59-.52 0-1.04.2-1.43.59L10.3 9.45l-7.72 7.72c-.78.78-.78 2.05 0 2.83L4 21.41c.39.39.9.59 1.41.59.51 0 1.02-.2 1.41-.59l7.78-7.78 2.81-2.81c.8-.78.8-2.07 0-2.86zM5.41 20L4 18.59l7.72-7.72 1.47 1.35L5.41 20z\"/>\n",
              "  </svg>\n",
              "      </button>\n",
              "\n",
              "\n",
              "\n",
              "    <div id=\"df-4a491b4f-2fe6-4c6c-8f8b-ef757fc542e8\">\n",
              "      <button class=\"colab-df-quickchart\" onclick=\"quickchart('df-4a491b4f-2fe6-4c6c-8f8b-ef757fc542e8')\"\n",
              "              title=\"Suggest charts.\"\n",
              "              style=\"display:none;\">\n",
              "\n",
              "<svg xmlns=\"http://www.w3.org/2000/svg\" height=\"24px\"viewBox=\"0 0 24 24\"\n",
              "     width=\"24px\">\n",
              "    <g>\n",
              "        <path d=\"M19 3H5c-1.1 0-2 .9-2 2v14c0 1.1.9 2 2 2h14c1.1 0 2-.9 2-2V5c0-1.1-.9-2-2-2zM9 17H7v-7h2v7zm4 0h-2V7h2v10zm4 0h-2v-4h2v4z\"/>\n",
              "    </g>\n",
              "</svg>\n",
              "      </button>\n",
              "    </div>\n",
              "\n",
              "<style>\n",
              "  .colab-df-quickchart {\n",
              "    background-color: #E8F0FE;\n",
              "    border: none;\n",
              "    border-radius: 50%;\n",
              "    cursor: pointer;\n",
              "    display: none;\n",
              "    fill: #1967D2;\n",
              "    height: 32px;\n",
              "    padding: 0 0 0 0;\n",
              "    width: 32px;\n",
              "  }\n",
              "\n",
              "  .colab-df-quickchart:hover {\n",
              "    background-color: #E2EBFA;\n",
              "    box-shadow: 0px 1px 2px rgba(60, 64, 67, 0.3), 0px 1px 3px 1px rgba(60, 64, 67, 0.15);\n",
              "    fill: #174EA6;\n",
              "  }\n",
              "\n",
              "  [theme=dark] .colab-df-quickchart {\n",
              "    background-color: #3B4455;\n",
              "    fill: #D2E3FC;\n",
              "  }\n",
              "\n",
              "  [theme=dark] .colab-df-quickchart:hover {\n",
              "    background-color: #434B5C;\n",
              "    box-shadow: 0px 1px 3px 1px rgba(0, 0, 0, 0.15);\n",
              "    filter: drop-shadow(0px 1px 2px rgba(0, 0, 0, 0.3));\n",
              "    fill: #FFFFFF;\n",
              "  }\n",
              "</style>\n",
              "\n",
              "    <script>\n",
              "      async function quickchart(key) {\n",
              "        const containerElement = document.querySelector('#' + key);\n",
              "        const charts = await google.colab.kernel.invokeFunction(\n",
              "            'suggestCharts', [key], {});\n",
              "      }\n",
              "    </script>\n",
              "\n",
              "      <script>\n",
              "\n",
              "function displayQuickchartButton(domScope) {\n",
              "  let quickchartButtonEl =\n",
              "    domScope.querySelector('#df-4a491b4f-2fe6-4c6c-8f8b-ef757fc542e8 button.colab-df-quickchart');\n",
              "  quickchartButtonEl.style.display =\n",
              "    google.colab.kernel.accessAllowed ? 'block' : 'none';\n",
              "}\n",
              "\n",
              "        displayQuickchartButton(document);\n",
              "      </script>\n",
              "      <style>\n",
              "    .colab-df-container {\n",
              "      display:flex;\n",
              "      flex-wrap:wrap;\n",
              "      gap: 12px;\n",
              "    }\n",
              "\n",
              "    .colab-df-convert {\n",
              "      background-color: #E8F0FE;\n",
              "      border: none;\n",
              "      border-radius: 50%;\n",
              "      cursor: pointer;\n",
              "      display: none;\n",
              "      fill: #1967D2;\n",
              "      height: 32px;\n",
              "      padding: 0 0 0 0;\n",
              "      width: 32px;\n",
              "    }\n",
              "\n",
              "    .colab-df-convert:hover {\n",
              "      background-color: #E2EBFA;\n",
              "      box-shadow: 0px 1px 2px rgba(60, 64, 67, 0.3), 0px 1px 3px 1px rgba(60, 64, 67, 0.15);\n",
              "      fill: #174EA6;\n",
              "    }\n",
              "\n",
              "    [theme=dark] .colab-df-convert {\n",
              "      background-color: #3B4455;\n",
              "      fill: #D2E3FC;\n",
              "    }\n",
              "\n",
              "    [theme=dark] .colab-df-convert:hover {\n",
              "      background-color: #434B5C;\n",
              "      box-shadow: 0px 1px 3px 1px rgba(0, 0, 0, 0.15);\n",
              "      filter: drop-shadow(0px 1px 2px rgba(0, 0, 0, 0.3));\n",
              "      fill: #FFFFFF;\n",
              "    }\n",
              "  </style>\n",
              "\n",
              "      <script>\n",
              "        const buttonEl =\n",
              "          document.querySelector('#df-62808b24-cb61-4540-aed2-fcd1b481f325 button.colab-df-convert');\n",
              "        buttonEl.style.display =\n",
              "          google.colab.kernel.accessAllowed ? 'block' : 'none';\n",
              "\n",
              "        async function convertToInteractive(key) {\n",
              "          const element = document.querySelector('#df-62808b24-cb61-4540-aed2-fcd1b481f325');\n",
              "          const dataTable =\n",
              "            await google.colab.kernel.invokeFunction('convertToInteractive',\n",
              "                                                     [key], {});\n",
              "          if (!dataTable) return;\n",
              "\n",
              "          const docLinkHtml = 'Like what you see? Visit the ' +\n",
              "            '<a target=\"_blank\" href=https://colab.research.google.com/notebooks/data_table.ipynb>data table notebook</a>'\n",
              "            + ' to learn more about interactive tables.';\n",
              "          element.innerHTML = '';\n",
              "          dataTable['output_type'] = 'display_data';\n",
              "          await google.colab.output.renderOutput(dataTable, element);\n",
              "          const docLink = document.createElement('div');\n",
              "          docLink.innerHTML = docLinkHtml;\n",
              "          element.appendChild(docLink);\n",
              "        }\n",
              "      </script>\n",
              "    </div>\n",
              "  </div>\n"
            ]
          },
          "metadata": {},
          "execution_count": 3
        }
      ]
    },
    {
      "cell_type": "code",
      "source": [
        "# retirn the last five rows\n",
        "df.tail()"
      ],
      "metadata": {
        "id": "JP2bGKkmwZG4",
        "colab": {
          "base_uri": "https://localhost:8080/",
          "height": 206
        },
        "outputId": "d861af7c-6ac1-4b7e-a108-03cb39b9fc65"
      },
      "id": "JP2bGKkmwZG4",
      "execution_count": 4,
      "outputs": [
        {
          "output_type": "execute_result",
          "data": {
            "text/plain": [
              "    user_id      group landing_page  time_spent_on_the_page converted  \\\n",
              "95   546446  treatment          new                    5.15        no   \n",
              "96   546544    control          old                    6.52       yes   \n",
              "97   546472  treatment          new                    7.07       yes   \n",
              "98   546481  treatment          new                    6.20       yes   \n",
              "99   546483  treatment          new                    5.86       yes   \n",
              "\n",
              "   language_preferred  \n",
              "95            Spanish  \n",
              "96            English  \n",
              "97            Spanish  \n",
              "98            Spanish  \n",
              "99            English  "
            ],
            "text/html": [
              "\n",
              "\n",
              "  <div id=\"df-6b49efa2-fca9-422d-af24-bc2dd87f9c2a\">\n",
              "    <div class=\"colab-df-container\">\n",
              "      <div>\n",
              "<style scoped>\n",
              "    .dataframe tbody tr th:only-of-type {\n",
              "        vertical-align: middle;\n",
              "    }\n",
              "\n",
              "    .dataframe tbody tr th {\n",
              "        vertical-align: top;\n",
              "    }\n",
              "\n",
              "    .dataframe thead th {\n",
              "        text-align: right;\n",
              "    }\n",
              "</style>\n",
              "<table border=\"1\" class=\"dataframe\">\n",
              "  <thead>\n",
              "    <tr style=\"text-align: right;\">\n",
              "      <th></th>\n",
              "      <th>user_id</th>\n",
              "      <th>group</th>\n",
              "      <th>landing_page</th>\n",
              "      <th>time_spent_on_the_page</th>\n",
              "      <th>converted</th>\n",
              "      <th>language_preferred</th>\n",
              "    </tr>\n",
              "  </thead>\n",
              "  <tbody>\n",
              "    <tr>\n",
              "      <th>95</th>\n",
              "      <td>546446</td>\n",
              "      <td>treatment</td>\n",
              "      <td>new</td>\n",
              "      <td>5.15</td>\n",
              "      <td>no</td>\n",
              "      <td>Spanish</td>\n",
              "    </tr>\n",
              "    <tr>\n",
              "      <th>96</th>\n",
              "      <td>546544</td>\n",
              "      <td>control</td>\n",
              "      <td>old</td>\n",
              "      <td>6.52</td>\n",
              "      <td>yes</td>\n",
              "      <td>English</td>\n",
              "    </tr>\n",
              "    <tr>\n",
              "      <th>97</th>\n",
              "      <td>546472</td>\n",
              "      <td>treatment</td>\n",
              "      <td>new</td>\n",
              "      <td>7.07</td>\n",
              "      <td>yes</td>\n",
              "      <td>Spanish</td>\n",
              "    </tr>\n",
              "    <tr>\n",
              "      <th>98</th>\n",
              "      <td>546481</td>\n",
              "      <td>treatment</td>\n",
              "      <td>new</td>\n",
              "      <td>6.20</td>\n",
              "      <td>yes</td>\n",
              "      <td>Spanish</td>\n",
              "    </tr>\n",
              "    <tr>\n",
              "      <th>99</th>\n",
              "      <td>546483</td>\n",
              "      <td>treatment</td>\n",
              "      <td>new</td>\n",
              "      <td>5.86</td>\n",
              "      <td>yes</td>\n",
              "      <td>English</td>\n",
              "    </tr>\n",
              "  </tbody>\n",
              "</table>\n",
              "</div>\n",
              "      <button class=\"colab-df-convert\" onclick=\"convertToInteractive('df-6b49efa2-fca9-422d-af24-bc2dd87f9c2a')\"\n",
              "              title=\"Convert this dataframe to an interactive table.\"\n",
              "              style=\"display:none;\">\n",
              "\n",
              "  <svg xmlns=\"http://www.w3.org/2000/svg\" height=\"24px\"viewBox=\"0 0 24 24\"\n",
              "       width=\"24px\">\n",
              "    <path d=\"M0 0h24v24H0V0z\" fill=\"none\"/>\n",
              "    <path d=\"M18.56 5.44l.94 2.06.94-2.06 2.06-.94-2.06-.94-.94-2.06-.94 2.06-2.06.94zm-11 1L8.5 8.5l.94-2.06 2.06-.94-2.06-.94L8.5 2.5l-.94 2.06-2.06.94zm10 10l.94 2.06.94-2.06 2.06-.94-2.06-.94-.94-2.06-.94 2.06-2.06.94z\"/><path d=\"M17.41 7.96l-1.37-1.37c-.4-.4-.92-.59-1.43-.59-.52 0-1.04.2-1.43.59L10.3 9.45l-7.72 7.72c-.78.78-.78 2.05 0 2.83L4 21.41c.39.39.9.59 1.41.59.51 0 1.02-.2 1.41-.59l7.78-7.78 2.81-2.81c.8-.78.8-2.07 0-2.86zM5.41 20L4 18.59l7.72-7.72 1.47 1.35L5.41 20z\"/>\n",
              "  </svg>\n",
              "      </button>\n",
              "\n",
              "\n",
              "\n",
              "    <div id=\"df-d67e458f-c4da-4679-876d-3a340064e52c\">\n",
              "      <button class=\"colab-df-quickchart\" onclick=\"quickchart('df-d67e458f-c4da-4679-876d-3a340064e52c')\"\n",
              "              title=\"Suggest charts.\"\n",
              "              style=\"display:none;\">\n",
              "\n",
              "<svg xmlns=\"http://www.w3.org/2000/svg\" height=\"24px\"viewBox=\"0 0 24 24\"\n",
              "     width=\"24px\">\n",
              "    <g>\n",
              "        <path d=\"M19 3H5c-1.1 0-2 .9-2 2v14c0 1.1.9 2 2 2h14c1.1 0 2-.9 2-2V5c0-1.1-.9-2-2-2zM9 17H7v-7h2v7zm4 0h-2V7h2v10zm4 0h-2v-4h2v4z\"/>\n",
              "    </g>\n",
              "</svg>\n",
              "      </button>\n",
              "    </div>\n",
              "\n",
              "<style>\n",
              "  .colab-df-quickchart {\n",
              "    background-color: #E8F0FE;\n",
              "    border: none;\n",
              "    border-radius: 50%;\n",
              "    cursor: pointer;\n",
              "    display: none;\n",
              "    fill: #1967D2;\n",
              "    height: 32px;\n",
              "    padding: 0 0 0 0;\n",
              "    width: 32px;\n",
              "  }\n",
              "\n",
              "  .colab-df-quickchart:hover {\n",
              "    background-color: #E2EBFA;\n",
              "    box-shadow: 0px 1px 2px rgba(60, 64, 67, 0.3), 0px 1px 3px 1px rgba(60, 64, 67, 0.15);\n",
              "    fill: #174EA6;\n",
              "  }\n",
              "\n",
              "  [theme=dark] .colab-df-quickchart {\n",
              "    background-color: #3B4455;\n",
              "    fill: #D2E3FC;\n",
              "  }\n",
              "\n",
              "  [theme=dark] .colab-df-quickchart:hover {\n",
              "    background-color: #434B5C;\n",
              "    box-shadow: 0px 1px 3px 1px rgba(0, 0, 0, 0.15);\n",
              "    filter: drop-shadow(0px 1px 2px rgba(0, 0, 0, 0.3));\n",
              "    fill: #FFFFFF;\n",
              "  }\n",
              "</style>\n",
              "\n",
              "    <script>\n",
              "      async function quickchart(key) {\n",
              "        const containerElement = document.querySelector('#' + key);\n",
              "        const charts = await google.colab.kernel.invokeFunction(\n",
              "            'suggestCharts', [key], {});\n",
              "      }\n",
              "    </script>\n",
              "\n",
              "      <script>\n",
              "\n",
              "function displayQuickchartButton(domScope) {\n",
              "  let quickchartButtonEl =\n",
              "    domScope.querySelector('#df-d67e458f-c4da-4679-876d-3a340064e52c button.colab-df-quickchart');\n",
              "  quickchartButtonEl.style.display =\n",
              "    google.colab.kernel.accessAllowed ? 'block' : 'none';\n",
              "}\n",
              "\n",
              "        displayQuickchartButton(document);\n",
              "      </script>\n",
              "      <style>\n",
              "    .colab-df-container {\n",
              "      display:flex;\n",
              "      flex-wrap:wrap;\n",
              "      gap: 12px;\n",
              "    }\n",
              "\n",
              "    .colab-df-convert {\n",
              "      background-color: #E8F0FE;\n",
              "      border: none;\n",
              "      border-radius: 50%;\n",
              "      cursor: pointer;\n",
              "      display: none;\n",
              "      fill: #1967D2;\n",
              "      height: 32px;\n",
              "      padding: 0 0 0 0;\n",
              "      width: 32px;\n",
              "    }\n",
              "\n",
              "    .colab-df-convert:hover {\n",
              "      background-color: #E2EBFA;\n",
              "      box-shadow: 0px 1px 2px rgba(60, 64, 67, 0.3), 0px 1px 3px 1px rgba(60, 64, 67, 0.15);\n",
              "      fill: #174EA6;\n",
              "    }\n",
              "\n",
              "    [theme=dark] .colab-df-convert {\n",
              "      background-color: #3B4455;\n",
              "      fill: #D2E3FC;\n",
              "    }\n",
              "\n",
              "    [theme=dark] .colab-df-convert:hover {\n",
              "      background-color: #434B5C;\n",
              "      box-shadow: 0px 1px 3px 1px rgba(0, 0, 0, 0.15);\n",
              "      filter: drop-shadow(0px 1px 2px rgba(0, 0, 0, 0.3));\n",
              "      fill: #FFFFFF;\n",
              "    }\n",
              "  </style>\n",
              "\n",
              "      <script>\n",
              "        const buttonEl =\n",
              "          document.querySelector('#df-6b49efa2-fca9-422d-af24-bc2dd87f9c2a button.colab-df-convert');\n",
              "        buttonEl.style.display =\n",
              "          google.colab.kernel.accessAllowed ? 'block' : 'none';\n",
              "\n",
              "        async function convertToInteractive(key) {\n",
              "          const element = document.querySelector('#df-6b49efa2-fca9-422d-af24-bc2dd87f9c2a');\n",
              "          const dataTable =\n",
              "            await google.colab.kernel.invokeFunction('convertToInteractive',\n",
              "                                                     [key], {});\n",
              "          if (!dataTable) return;\n",
              "\n",
              "          const docLinkHtml = 'Like what you see? Visit the ' +\n",
              "            '<a target=\"_blank\" href=https://colab.research.google.com/notebooks/data_table.ipynb>data table notebook</a>'\n",
              "            + ' to learn more about interactive tables.';\n",
              "          element.innerHTML = '';\n",
              "          dataTable['output_type'] = 'display_data';\n",
              "          await google.colab.output.renderOutput(dataTable, element);\n",
              "          const docLink = document.createElement('div');\n",
              "          docLink.innerHTML = docLinkHtml;\n",
              "          element.appendChild(docLink);\n",
              "        }\n",
              "      </script>\n",
              "    </div>\n",
              "  </div>\n"
            ]
          },
          "metadata": {},
          "execution_count": 4
        }
      ]
    },
    {
      "cell_type": "code",
      "source": [
        "# returns the number of rows by the number of columns\n",
        "df.shape"
      ],
      "metadata": {
        "id": "yl04fvBItOkJ",
        "colab": {
          "base_uri": "https://localhost:8080/"
        },
        "outputId": "340859e7-3316-49ca-be97-3cdc480705d3"
      },
      "id": "yl04fvBItOkJ",
      "execution_count": 5,
      "outputs": [
        {
          "output_type": "execute_result",
          "data": {
            "text/plain": [
              "(100, 6)"
            ]
          },
          "metadata": {},
          "execution_count": 5
        }
      ]
    },
    {
      "cell_type": "markdown",
      "source": [
        "Observations:\n",
        "\n",
        "There are 100 columns and 6 rows in the dataset."
      ],
      "metadata": {
        "id": "sBa6OcgntWI6"
      },
      "id": "sBa6OcgntWI6"
    },
    {
      "cell_type": "code",
      "source": [
        "# print a concise summary of the DataFrame\n",
        "df.info()"
      ],
      "metadata": {
        "id": "VY_q9-YYtUYN",
        "colab": {
          "base_uri": "https://localhost:8080/"
        },
        "outputId": "66d29172-8bd5-4932-bf68-3f4aea1b5771"
      },
      "id": "VY_q9-YYtUYN",
      "execution_count": 6,
      "outputs": [
        {
          "output_type": "stream",
          "name": "stdout",
          "text": [
            "<class 'pandas.core.frame.DataFrame'>\n",
            "RangeIndex: 100 entries, 0 to 99\n",
            "Data columns (total 6 columns):\n",
            " #   Column                  Non-Null Count  Dtype  \n",
            "---  ------                  --------------  -----  \n",
            " 0   user_id                 100 non-null    int64  \n",
            " 1   group                   100 non-null    object \n",
            " 2   landing_page            100 non-null    object \n",
            " 3   time_spent_on_the_page  100 non-null    float64\n",
            " 4   converted               100 non-null    object \n",
            " 5   language_preferred      100 non-null    object \n",
            "dtypes: float64(1), int64(1), object(4)\n",
            "memory usage: 4.8+ KB\n"
          ]
        }
      ]
    },
    {
      "cell_type": "markdown",
      "source": [
        "Observations:\n",
        "\n",
        "\n",
        "*   There are 2 numerical columns and 4 object type columns in the data.\n",
        "*   All columns have 100 observations which represent that there is no missing value within the data.\n",
        "\n",
        "*   'User_id' and 'time_spent_on_the_page' columns are numerical while rest of the columns contain categorical data.\n",
        "  \n",
        "\n",
        "\n",
        "\n"
      ],
      "metadata": {
        "id": "A05AcVabuGnR"
      },
      "id": "A05AcVabuGnR"
    },
    {
      "cell_type": "code",
      "metadata": {
        "id": "d3b95640",
        "colab": {
          "base_uri": "https://localhost:8080/"
        },
        "outputId": "37636db8-9d77-4502-9bcf-e45a393ad6c0"
      },
      "source": [
        "# check missing values across each columns\n",
        "df.isnull().sum()"
      ],
      "id": "d3b95640",
      "execution_count": 7,
      "outputs": [
        {
          "output_type": "execute_result",
          "data": {
            "text/plain": [
              "user_id                   0\n",
              "group                     0\n",
              "landing_page              0\n",
              "time_spent_on_the_page    0\n",
              "converted                 0\n",
              "language_preferred        0\n",
              "dtype: int64"
            ]
          },
          "metadata": {},
          "execution_count": 7
        }
      ]
    },
    {
      "cell_type": "markdown",
      "source": [
        "#### Observations:\n",
        "There is no any missing value in data."
      ],
      "metadata": {
        "id": "h0kLw3c6vbiq"
      },
      "id": "h0kLw3c6vbiq"
    },
    {
      "cell_type": "code",
      "source": [
        "# check statistical summary of the all data\n",
        "df.describe(include='all').T"
      ],
      "metadata": {
        "id": "o4IPRzPywgmj",
        "colab": {
          "base_uri": "https://localhost:8080/",
          "height": 237
        },
        "outputId": "e4333441-9b40-4c71-9468-ddc5fd3120a2"
      },
      "id": "o4IPRzPywgmj",
      "execution_count": 8,
      "outputs": [
        {
          "output_type": "execute_result",
          "data": {
            "text/plain": [
              "                        count unique      top freq      mean        std  \\\n",
              "user_id                 100.0    NaN      NaN  NaN  546517.0  52.295779   \n",
              "group                     100      2  control   50       NaN        NaN   \n",
              "landing_page              100      2      old   50       NaN        NaN   \n",
              "time_spent_on_the_page  100.0    NaN      NaN  NaN    5.3778   2.378166   \n",
              "converted                 100      2      yes   54       NaN        NaN   \n",
              "language_preferred        100      3  Spanish   34       NaN        NaN   \n",
              "\n",
              "                             min        25%       50%        75%       max  \n",
              "user_id                 546443.0  546467.75  546492.5  546567.25  546592.0  \n",
              "group                        NaN        NaN       NaN        NaN       NaN  \n",
              "landing_page                 NaN        NaN       NaN        NaN       NaN  \n",
              "time_spent_on_the_page      0.19       3.88     5.415     7.0225     10.71  \n",
              "converted                    NaN        NaN       NaN        NaN       NaN  \n",
              "language_preferred           NaN        NaN       NaN        NaN       NaN  "
            ],
            "text/html": [
              "\n",
              "\n",
              "  <div id=\"df-06220194-94a1-49cf-83da-c620ff77e68b\">\n",
              "    <div class=\"colab-df-container\">\n",
              "      <div>\n",
              "<style scoped>\n",
              "    .dataframe tbody tr th:only-of-type {\n",
              "        vertical-align: middle;\n",
              "    }\n",
              "\n",
              "    .dataframe tbody tr th {\n",
              "        vertical-align: top;\n",
              "    }\n",
              "\n",
              "    .dataframe thead th {\n",
              "        text-align: right;\n",
              "    }\n",
              "</style>\n",
              "<table border=\"1\" class=\"dataframe\">\n",
              "  <thead>\n",
              "    <tr style=\"text-align: right;\">\n",
              "      <th></th>\n",
              "      <th>count</th>\n",
              "      <th>unique</th>\n",
              "      <th>top</th>\n",
              "      <th>freq</th>\n",
              "      <th>mean</th>\n",
              "      <th>std</th>\n",
              "      <th>min</th>\n",
              "      <th>25%</th>\n",
              "      <th>50%</th>\n",
              "      <th>75%</th>\n",
              "      <th>max</th>\n",
              "    </tr>\n",
              "  </thead>\n",
              "  <tbody>\n",
              "    <tr>\n",
              "      <th>user_id</th>\n",
              "      <td>100.0</td>\n",
              "      <td>NaN</td>\n",
              "      <td>NaN</td>\n",
              "      <td>NaN</td>\n",
              "      <td>546517.0</td>\n",
              "      <td>52.295779</td>\n",
              "      <td>546443.0</td>\n",
              "      <td>546467.75</td>\n",
              "      <td>546492.5</td>\n",
              "      <td>546567.25</td>\n",
              "      <td>546592.0</td>\n",
              "    </tr>\n",
              "    <tr>\n",
              "      <th>group</th>\n",
              "      <td>100</td>\n",
              "      <td>2</td>\n",
              "      <td>control</td>\n",
              "      <td>50</td>\n",
              "      <td>NaN</td>\n",
              "      <td>NaN</td>\n",
              "      <td>NaN</td>\n",
              "      <td>NaN</td>\n",
              "      <td>NaN</td>\n",
              "      <td>NaN</td>\n",
              "      <td>NaN</td>\n",
              "    </tr>\n",
              "    <tr>\n",
              "      <th>landing_page</th>\n",
              "      <td>100</td>\n",
              "      <td>2</td>\n",
              "      <td>old</td>\n",
              "      <td>50</td>\n",
              "      <td>NaN</td>\n",
              "      <td>NaN</td>\n",
              "      <td>NaN</td>\n",
              "      <td>NaN</td>\n",
              "      <td>NaN</td>\n",
              "      <td>NaN</td>\n",
              "      <td>NaN</td>\n",
              "    </tr>\n",
              "    <tr>\n",
              "      <th>time_spent_on_the_page</th>\n",
              "      <td>100.0</td>\n",
              "      <td>NaN</td>\n",
              "      <td>NaN</td>\n",
              "      <td>NaN</td>\n",
              "      <td>5.3778</td>\n",
              "      <td>2.378166</td>\n",
              "      <td>0.19</td>\n",
              "      <td>3.88</td>\n",
              "      <td>5.415</td>\n",
              "      <td>7.0225</td>\n",
              "      <td>10.71</td>\n",
              "    </tr>\n",
              "    <tr>\n",
              "      <th>converted</th>\n",
              "      <td>100</td>\n",
              "      <td>2</td>\n",
              "      <td>yes</td>\n",
              "      <td>54</td>\n",
              "      <td>NaN</td>\n",
              "      <td>NaN</td>\n",
              "      <td>NaN</td>\n",
              "      <td>NaN</td>\n",
              "      <td>NaN</td>\n",
              "      <td>NaN</td>\n",
              "      <td>NaN</td>\n",
              "    </tr>\n",
              "    <tr>\n",
              "      <th>language_preferred</th>\n",
              "      <td>100</td>\n",
              "      <td>3</td>\n",
              "      <td>Spanish</td>\n",
              "      <td>34</td>\n",
              "      <td>NaN</td>\n",
              "      <td>NaN</td>\n",
              "      <td>NaN</td>\n",
              "      <td>NaN</td>\n",
              "      <td>NaN</td>\n",
              "      <td>NaN</td>\n",
              "      <td>NaN</td>\n",
              "    </tr>\n",
              "  </tbody>\n",
              "</table>\n",
              "</div>\n",
              "      <button class=\"colab-df-convert\" onclick=\"convertToInteractive('df-06220194-94a1-49cf-83da-c620ff77e68b')\"\n",
              "              title=\"Convert this dataframe to an interactive table.\"\n",
              "              style=\"display:none;\">\n",
              "\n",
              "  <svg xmlns=\"http://www.w3.org/2000/svg\" height=\"24px\"viewBox=\"0 0 24 24\"\n",
              "       width=\"24px\">\n",
              "    <path d=\"M0 0h24v24H0V0z\" fill=\"none\"/>\n",
              "    <path d=\"M18.56 5.44l.94 2.06.94-2.06 2.06-.94-2.06-.94-.94-2.06-.94 2.06-2.06.94zm-11 1L8.5 8.5l.94-2.06 2.06-.94-2.06-.94L8.5 2.5l-.94 2.06-2.06.94zm10 10l.94 2.06.94-2.06 2.06-.94-2.06-.94-.94-2.06-.94 2.06-2.06.94z\"/><path d=\"M17.41 7.96l-1.37-1.37c-.4-.4-.92-.59-1.43-.59-.52 0-1.04.2-1.43.59L10.3 9.45l-7.72 7.72c-.78.78-.78 2.05 0 2.83L4 21.41c.39.39.9.59 1.41.59.51 0 1.02-.2 1.41-.59l7.78-7.78 2.81-2.81c.8-.78.8-2.07 0-2.86zM5.41 20L4 18.59l7.72-7.72 1.47 1.35L5.41 20z\"/>\n",
              "  </svg>\n",
              "      </button>\n",
              "\n",
              "\n",
              "\n",
              "    <div id=\"df-7432b59c-ade4-4fc6-aa60-572d4e8d5a41\">\n",
              "      <button class=\"colab-df-quickchart\" onclick=\"quickchart('df-7432b59c-ade4-4fc6-aa60-572d4e8d5a41')\"\n",
              "              title=\"Suggest charts.\"\n",
              "              style=\"display:none;\">\n",
              "\n",
              "<svg xmlns=\"http://www.w3.org/2000/svg\" height=\"24px\"viewBox=\"0 0 24 24\"\n",
              "     width=\"24px\">\n",
              "    <g>\n",
              "        <path d=\"M19 3H5c-1.1 0-2 .9-2 2v14c0 1.1.9 2 2 2h14c1.1 0 2-.9 2-2V5c0-1.1-.9-2-2-2zM9 17H7v-7h2v7zm4 0h-2V7h2v10zm4 0h-2v-4h2v4z\"/>\n",
              "    </g>\n",
              "</svg>\n",
              "      </button>\n",
              "    </div>\n",
              "\n",
              "<style>\n",
              "  .colab-df-quickchart {\n",
              "    background-color: #E8F0FE;\n",
              "    border: none;\n",
              "    border-radius: 50%;\n",
              "    cursor: pointer;\n",
              "    display: none;\n",
              "    fill: #1967D2;\n",
              "    height: 32px;\n",
              "    padding: 0 0 0 0;\n",
              "    width: 32px;\n",
              "  }\n",
              "\n",
              "  .colab-df-quickchart:hover {\n",
              "    background-color: #E2EBFA;\n",
              "    box-shadow: 0px 1px 2px rgba(60, 64, 67, 0.3), 0px 1px 3px 1px rgba(60, 64, 67, 0.15);\n",
              "    fill: #174EA6;\n",
              "  }\n",
              "\n",
              "  [theme=dark] .colab-df-quickchart {\n",
              "    background-color: #3B4455;\n",
              "    fill: #D2E3FC;\n",
              "  }\n",
              "\n",
              "  [theme=dark] .colab-df-quickchart:hover {\n",
              "    background-color: #434B5C;\n",
              "    box-shadow: 0px 1px 3px 1px rgba(0, 0, 0, 0.15);\n",
              "    filter: drop-shadow(0px 1px 2px rgba(0, 0, 0, 0.3));\n",
              "    fill: #FFFFFF;\n",
              "  }\n",
              "</style>\n",
              "\n",
              "    <script>\n",
              "      async function quickchart(key) {\n",
              "        const containerElement = document.querySelector('#' + key);\n",
              "        const charts = await google.colab.kernel.invokeFunction(\n",
              "            'suggestCharts', [key], {});\n",
              "      }\n",
              "    </script>\n",
              "\n",
              "      <script>\n",
              "\n",
              "function displayQuickchartButton(domScope) {\n",
              "  let quickchartButtonEl =\n",
              "    domScope.querySelector('#df-7432b59c-ade4-4fc6-aa60-572d4e8d5a41 button.colab-df-quickchart');\n",
              "  quickchartButtonEl.style.display =\n",
              "    google.colab.kernel.accessAllowed ? 'block' : 'none';\n",
              "}\n",
              "\n",
              "        displayQuickchartButton(document);\n",
              "      </script>\n",
              "      <style>\n",
              "    .colab-df-container {\n",
              "      display:flex;\n",
              "      flex-wrap:wrap;\n",
              "      gap: 12px;\n",
              "    }\n",
              "\n",
              "    .colab-df-convert {\n",
              "      background-color: #E8F0FE;\n",
              "      border: none;\n",
              "      border-radius: 50%;\n",
              "      cursor: pointer;\n",
              "      display: none;\n",
              "      fill: #1967D2;\n",
              "      height: 32px;\n",
              "      padding: 0 0 0 0;\n",
              "      width: 32px;\n",
              "    }\n",
              "\n",
              "    .colab-df-convert:hover {\n",
              "      background-color: #E2EBFA;\n",
              "      box-shadow: 0px 1px 2px rgba(60, 64, 67, 0.3), 0px 1px 3px 1px rgba(60, 64, 67, 0.15);\n",
              "      fill: #174EA6;\n",
              "    }\n",
              "\n",
              "    [theme=dark] .colab-df-convert {\n",
              "      background-color: #3B4455;\n",
              "      fill: #D2E3FC;\n",
              "    }\n",
              "\n",
              "    [theme=dark] .colab-df-convert:hover {\n",
              "      background-color: #434B5C;\n",
              "      box-shadow: 0px 1px 3px 1px rgba(0, 0, 0, 0.15);\n",
              "      filter: drop-shadow(0px 1px 2px rgba(0, 0, 0, 0.3));\n",
              "      fill: #FFFFFF;\n",
              "    }\n",
              "  </style>\n",
              "\n",
              "      <script>\n",
              "        const buttonEl =\n",
              "          document.querySelector('#df-06220194-94a1-49cf-83da-c620ff77e68b button.colab-df-convert');\n",
              "        buttonEl.style.display =\n",
              "          google.colab.kernel.accessAllowed ? 'block' : 'none';\n",
              "\n",
              "        async function convertToInteractive(key) {\n",
              "          const element = document.querySelector('#df-06220194-94a1-49cf-83da-c620ff77e68b');\n",
              "          const dataTable =\n",
              "            await google.colab.kernel.invokeFunction('convertToInteractive',\n",
              "                                                     [key], {});\n",
              "          if (!dataTable) return;\n",
              "\n",
              "          const docLinkHtml = 'Like what you see? Visit the ' +\n",
              "            '<a target=\"_blank\" href=https://colab.research.google.com/notebooks/data_table.ipynb>data table notebook</a>'\n",
              "            + ' to learn more about interactive tables.';\n",
              "          element.innerHTML = '';\n",
              "          dataTable['output_type'] = 'display_data';\n",
              "          await google.colab.output.renderOutput(dataTable, element);\n",
              "          const docLink = document.createElement('div');\n",
              "          docLink.innerHTML = docLinkHtml;\n",
              "          element.appendChild(docLink);\n",
              "        }\n",
              "      </script>\n",
              "    </div>\n",
              "  </div>\n"
            ]
          },
          "metadata": {},
          "execution_count": 8
        }
      ]
    },
    {
      "cell_type": "markdown",
      "source": [
        "Observations:\n",
        "\n",
        "\n",
        "*   There are 2 unique values for 'group', 'landing_page' and 'converted' columns while there are 3 unique values for 'language_prefered' column.\n",
        "\n",
        "*  Most prefered language is Spanish with a count of 34 out of 100.\n",
        "*  54 out of 100 readers converted to subscription.\n",
        "\n",
        "\n"
      ],
      "metadata": {
        "id": "6CzwTyu7x1M6"
      },
      "id": "6CzwTyu7x1M6"
    },
    {
      "cell_type": "code",
      "source": [
        "# check statistical summary of the numerical data\n",
        "df.describe().T"
      ],
      "metadata": {
        "id": "K3qSe87fxXxu",
        "colab": {
          "base_uri": "https://localhost:8080/",
          "height": 112
        },
        "outputId": "18d0e8fd-2438-4b2d-88c7-b9fb6f93e4a3"
      },
      "id": "K3qSe87fxXxu",
      "execution_count": 9,
      "outputs": [
        {
          "output_type": "execute_result",
          "data": {
            "text/plain": [
              "                        count         mean        std        min        25%  \\\n",
              "user_id                 100.0  546517.0000  52.295779  546443.00  546467.75   \n",
              "time_spent_on_the_page  100.0       5.3778   2.378166       0.19       3.88   \n",
              "\n",
              "                               50%          75%        max  \n",
              "user_id                 546492.500  546567.2500  546592.00  \n",
              "time_spent_on_the_page       5.415       7.0225      10.71  "
            ],
            "text/html": [
              "\n",
              "\n",
              "  <div id=\"df-0ffd414b-3e28-41ac-aec6-161a1ddc05ea\">\n",
              "    <div class=\"colab-df-container\">\n",
              "      <div>\n",
              "<style scoped>\n",
              "    .dataframe tbody tr th:only-of-type {\n",
              "        vertical-align: middle;\n",
              "    }\n",
              "\n",
              "    .dataframe tbody tr th {\n",
              "        vertical-align: top;\n",
              "    }\n",
              "\n",
              "    .dataframe thead th {\n",
              "        text-align: right;\n",
              "    }\n",
              "</style>\n",
              "<table border=\"1\" class=\"dataframe\">\n",
              "  <thead>\n",
              "    <tr style=\"text-align: right;\">\n",
              "      <th></th>\n",
              "      <th>count</th>\n",
              "      <th>mean</th>\n",
              "      <th>std</th>\n",
              "      <th>min</th>\n",
              "      <th>25%</th>\n",
              "      <th>50%</th>\n",
              "      <th>75%</th>\n",
              "      <th>max</th>\n",
              "    </tr>\n",
              "  </thead>\n",
              "  <tbody>\n",
              "    <tr>\n",
              "      <th>user_id</th>\n",
              "      <td>100.0</td>\n",
              "      <td>546517.0000</td>\n",
              "      <td>52.295779</td>\n",
              "      <td>546443.00</td>\n",
              "      <td>546467.75</td>\n",
              "      <td>546492.500</td>\n",
              "      <td>546567.2500</td>\n",
              "      <td>546592.00</td>\n",
              "    </tr>\n",
              "    <tr>\n",
              "      <th>time_spent_on_the_page</th>\n",
              "      <td>100.0</td>\n",
              "      <td>5.3778</td>\n",
              "      <td>2.378166</td>\n",
              "      <td>0.19</td>\n",
              "      <td>3.88</td>\n",
              "      <td>5.415</td>\n",
              "      <td>7.0225</td>\n",
              "      <td>10.71</td>\n",
              "    </tr>\n",
              "  </tbody>\n",
              "</table>\n",
              "</div>\n",
              "      <button class=\"colab-df-convert\" onclick=\"convertToInteractive('df-0ffd414b-3e28-41ac-aec6-161a1ddc05ea')\"\n",
              "              title=\"Convert this dataframe to an interactive table.\"\n",
              "              style=\"display:none;\">\n",
              "\n",
              "  <svg xmlns=\"http://www.w3.org/2000/svg\" height=\"24px\"viewBox=\"0 0 24 24\"\n",
              "       width=\"24px\">\n",
              "    <path d=\"M0 0h24v24H0V0z\" fill=\"none\"/>\n",
              "    <path d=\"M18.56 5.44l.94 2.06.94-2.06 2.06-.94-2.06-.94-.94-2.06-.94 2.06-2.06.94zm-11 1L8.5 8.5l.94-2.06 2.06-.94-2.06-.94L8.5 2.5l-.94 2.06-2.06.94zm10 10l.94 2.06.94-2.06 2.06-.94-2.06-.94-.94-2.06-.94 2.06-2.06.94z\"/><path d=\"M17.41 7.96l-1.37-1.37c-.4-.4-.92-.59-1.43-.59-.52 0-1.04.2-1.43.59L10.3 9.45l-7.72 7.72c-.78.78-.78 2.05 0 2.83L4 21.41c.39.39.9.59 1.41.59.51 0 1.02-.2 1.41-.59l7.78-7.78 2.81-2.81c.8-.78.8-2.07 0-2.86zM5.41 20L4 18.59l7.72-7.72 1.47 1.35L5.41 20z\"/>\n",
              "  </svg>\n",
              "      </button>\n",
              "\n",
              "\n",
              "\n",
              "    <div id=\"df-7518e73c-a447-4341-a9f9-c3d504273861\">\n",
              "      <button class=\"colab-df-quickchart\" onclick=\"quickchart('df-7518e73c-a447-4341-a9f9-c3d504273861')\"\n",
              "              title=\"Suggest charts.\"\n",
              "              style=\"display:none;\">\n",
              "\n",
              "<svg xmlns=\"http://www.w3.org/2000/svg\" height=\"24px\"viewBox=\"0 0 24 24\"\n",
              "     width=\"24px\">\n",
              "    <g>\n",
              "        <path d=\"M19 3H5c-1.1 0-2 .9-2 2v14c0 1.1.9 2 2 2h14c1.1 0 2-.9 2-2V5c0-1.1-.9-2-2-2zM9 17H7v-7h2v7zm4 0h-2V7h2v10zm4 0h-2v-4h2v4z\"/>\n",
              "    </g>\n",
              "</svg>\n",
              "      </button>\n",
              "    </div>\n",
              "\n",
              "<style>\n",
              "  .colab-df-quickchart {\n",
              "    background-color: #E8F0FE;\n",
              "    border: none;\n",
              "    border-radius: 50%;\n",
              "    cursor: pointer;\n",
              "    display: none;\n",
              "    fill: #1967D2;\n",
              "    height: 32px;\n",
              "    padding: 0 0 0 0;\n",
              "    width: 32px;\n",
              "  }\n",
              "\n",
              "  .colab-df-quickchart:hover {\n",
              "    background-color: #E2EBFA;\n",
              "    box-shadow: 0px 1px 2px rgba(60, 64, 67, 0.3), 0px 1px 3px 1px rgba(60, 64, 67, 0.15);\n",
              "    fill: #174EA6;\n",
              "  }\n",
              "\n",
              "  [theme=dark] .colab-df-quickchart {\n",
              "    background-color: #3B4455;\n",
              "    fill: #D2E3FC;\n",
              "  }\n",
              "\n",
              "  [theme=dark] .colab-df-quickchart:hover {\n",
              "    background-color: #434B5C;\n",
              "    box-shadow: 0px 1px 3px 1px rgba(0, 0, 0, 0.15);\n",
              "    filter: drop-shadow(0px 1px 2px rgba(0, 0, 0, 0.3));\n",
              "    fill: #FFFFFF;\n",
              "  }\n",
              "</style>\n",
              "\n",
              "    <script>\n",
              "      async function quickchart(key) {\n",
              "        const containerElement = document.querySelector('#' + key);\n",
              "        const charts = await google.colab.kernel.invokeFunction(\n",
              "            'suggestCharts', [key], {});\n",
              "      }\n",
              "    </script>\n",
              "\n",
              "      <script>\n",
              "\n",
              "function displayQuickchartButton(domScope) {\n",
              "  let quickchartButtonEl =\n",
              "    domScope.querySelector('#df-7518e73c-a447-4341-a9f9-c3d504273861 button.colab-df-quickchart');\n",
              "  quickchartButtonEl.style.display =\n",
              "    google.colab.kernel.accessAllowed ? 'block' : 'none';\n",
              "}\n",
              "\n",
              "        displayQuickchartButton(document);\n",
              "      </script>\n",
              "      <style>\n",
              "    .colab-df-container {\n",
              "      display:flex;\n",
              "      flex-wrap:wrap;\n",
              "      gap: 12px;\n",
              "    }\n",
              "\n",
              "    .colab-df-convert {\n",
              "      background-color: #E8F0FE;\n",
              "      border: none;\n",
              "      border-radius: 50%;\n",
              "      cursor: pointer;\n",
              "      display: none;\n",
              "      fill: #1967D2;\n",
              "      height: 32px;\n",
              "      padding: 0 0 0 0;\n",
              "      width: 32px;\n",
              "    }\n",
              "\n",
              "    .colab-df-convert:hover {\n",
              "      background-color: #E2EBFA;\n",
              "      box-shadow: 0px 1px 2px rgba(60, 64, 67, 0.3), 0px 1px 3px 1px rgba(60, 64, 67, 0.15);\n",
              "      fill: #174EA6;\n",
              "    }\n",
              "\n",
              "    [theme=dark] .colab-df-convert {\n",
              "      background-color: #3B4455;\n",
              "      fill: #D2E3FC;\n",
              "    }\n",
              "\n",
              "    [theme=dark] .colab-df-convert:hover {\n",
              "      background-color: #434B5C;\n",
              "      box-shadow: 0px 1px 3px 1px rgba(0, 0, 0, 0.15);\n",
              "      filter: drop-shadow(0px 1px 2px rgba(0, 0, 0, 0.3));\n",
              "      fill: #FFFFFF;\n",
              "    }\n",
              "  </style>\n",
              "\n",
              "      <script>\n",
              "        const buttonEl =\n",
              "          document.querySelector('#df-0ffd414b-3e28-41ac-aec6-161a1ddc05ea button.colab-df-convert');\n",
              "        buttonEl.style.display =\n",
              "          google.colab.kernel.accessAllowed ? 'block' : 'none';\n",
              "\n",
              "        async function convertToInteractive(key) {\n",
              "          const element = document.querySelector('#df-0ffd414b-3e28-41ac-aec6-161a1ddc05ea');\n",
              "          const dataTable =\n",
              "            await google.colab.kernel.invokeFunction('convertToInteractive',\n",
              "                                                     [key], {});\n",
              "          if (!dataTable) return;\n",
              "\n",
              "          const docLinkHtml = 'Like what you see? Visit the ' +\n",
              "            '<a target=\"_blank\" href=https://colab.research.google.com/notebooks/data_table.ipynb>data table notebook</a>'\n",
              "            + ' to learn more about interactive tables.';\n",
              "          element.innerHTML = '';\n",
              "          dataTable['output_type'] = 'display_data';\n",
              "          await google.colab.output.renderOutput(dataTable, element);\n",
              "          const docLink = document.createElement('div');\n",
              "          docLink.innerHTML = docLinkHtml;\n",
              "          element.appendChild(docLink);\n",
              "        }\n",
              "      </script>\n",
              "    </div>\n",
              "  </div>\n"
            ]
          },
          "metadata": {},
          "execution_count": 9
        }
      ]
    },
    {
      "cell_type": "markdown",
      "source": [
        "Observations:\n",
        "\n",
        "\n",
        "* Average time users spent on landing page is about 5.4 min\n",
        "* Median value for the time users spenton the landing page is also about 5.4\n",
        "\n",
        "*   This information suggest that the 'time_spend_on_the_page' data follows normal distribution. Further analysis should be done to be sure.\n",
        "*   The lowest and maximum time users spent on the landing page are 0.19 and 10.71 minutes respectively.\n",
        "\n",
        "\n",
        "*   Statistical summary of 'user_id' is not relevant since 'user_id' column has the data of Unique user ID of the each person visiting the website.\n",
        "\n",
        "\n",
        "\n",
        "\n",
        "\n",
        "\n"
      ],
      "metadata": {
        "id": "83Xpf72ozLEt"
      },
      "id": "83Xpf72ozLEt"
    },
    {
      "cell_type": "code",
      "source": [
        "# check for duplicates\n",
        "duplicates = df.duplicated()\n",
        "# print the duplicated rows\n",
        "print(df[duplicates])\n"
      ],
      "metadata": {
        "id": "T1TYm5BzxfsA",
        "colab": {
          "base_uri": "https://localhost:8080/"
        },
        "outputId": "600ef98f-fdbb-43e5-a79a-0fd37c1f8a4c"
      },
      "id": "T1TYm5BzxfsA",
      "execution_count": 10,
      "outputs": [
        {
          "output_type": "stream",
          "name": "stdout",
          "text": [
            "Empty DataFrame\n",
            "Columns: [user_id, group, landing_page, time_spent_on_the_page, converted, language_preferred]\n",
            "Index: []\n"
          ]
        }
      ]
    },
    {
      "cell_type": "markdown",
      "source": [
        "Observation:\n",
        "\n",
        "There are no dublicates in the data frame."
      ],
      "metadata": {
        "id": "kbMzrTgI1m86"
      },
      "id": "kbMzrTgI1m86"
    },
    {
      "cell_type": "markdown",
      "metadata": {
        "id": "68f3b2c9"
      },
      "source": [
        "### Univariate Analysis"
      ],
      "id": "68f3b2c9"
    },
    {
      "cell_type": "markdown",
      "source": [
        "**Lets check the distribution for columns that has numerical data first!**"
      ],
      "metadata": {
        "id": "2E8iqpPR4nSn"
      },
      "id": "2E8iqpPR4nSn"
    },
    {
      "cell_type": "markdown",
      "source": [
        "Observations on Time Spent on the Landing Page"
      ],
      "metadata": {
        "id": "T3xdlI7b4ro-"
      },
      "id": "T3xdlI7b4ro-"
    },
    {
      "cell_type": "code",
      "metadata": {
        "id": "1932d0f3",
        "colab": {
          "base_uri": "https://localhost:8080/",
          "height": 898
        },
        "outputId": "d2e8ed76-dd40-4985-ffe7-efd632494535"
      },
      "source": [
        "plt.figure(figsize = (10,5))\n",
        "sns.histplot(data=df,x='time_spent_on_the_page')\n",
        "plt.show()\n",
        "sns.boxplot(data=df,x='time_spent_on_the_page')\n",
        "plt.show()"
      ],
      "id": "1932d0f3",
      "execution_count": 11,
      "outputs": [
        {
          "output_type": "display_data",
          "data": {
            "text/plain": [
              "<Figure size 1000x500 with 1 Axes>"
            ],
            "image/png": "[encoded data removed]"
          },
          "metadata": {}
        },
        {
          "output_type": "display_data",
          "data": {
            "text/plain": [
              "<Figure size 640x480 with 1 Axes>"
            ],
            "image/png": "[encoded data removed]"
          },
          "metadata": {}
        }
      ]
    },
    {
      "cell_type": "code",
      "source": [
        "# lets find the average time spent by users on the landing page\n",
        "df['time_spent_on_the_page'].mean()"
      ],
      "metadata": {
        "id": "pPoqNuYM6ClA",
        "colab": {
          "base_uri": "https://localhost:8080/"
        },
        "outputId": "6c95bff9-af91-4608-95bc-57262b38f9a5"
      },
      "id": "pPoqNuYM6ClA",
      "execution_count": 12,
      "outputs": [
        {
          "output_type": "execute_result",
          "data": {
            "text/plain": [
              "5.377800000000001"
            ]
          },
          "metadata": {},
          "execution_count": 12
        }
      ]
    },
    {
      "cell_type": "code",
      "source": [
        "# lets find the median time spent by users on the landing page\n",
        "df['time_spent_on_the_page'].median()"
      ],
      "metadata": {
        "id": "KvH-2fQD6gMb",
        "colab": {
          "base_uri": "https://localhost:8080/"
        },
        "outputId": "31924b3c-9b38-4a99-b73c-96fbd98e9de1"
      },
      "id": "KvH-2fQD6gMb",
      "execution_count": 13,
      "outputs": [
        {
          "output_type": "execute_result",
          "data": {
            "text/plain": [
              "5.415"
            ]
          },
          "metadata": {},
          "execution_count": 13
        }
      ]
    },
    {
      "cell_type": "markdown",
      "source": [
        "Observations:\n",
        "\n",
        "\n",
        "*   The distribution is normal dsitribution.\n",
        "\n",
        "*   There are no outliers.\n",
        "\n",
        "*   The average and median time that users spent on the landing page is about 5.4 min\n",
        "\n",
        "\n",
        "\n",
        "\n"
      ],
      "metadata": {
        "id": "TJrZhr2o5Wvw"
      },
      "id": "TJrZhr2o5Wvw"
    },
    {
      "cell_type": "markdown",
      "source": [
        "**Now, lets check the distribution for other columns.**"
      ],
      "metadata": {
        "id": "BiUNhjQV676u"
      },
      "id": "BiUNhjQV676u"
    },
    {
      "cell_type": "markdown",
      "source": [
        "Observations on Groups"
      ],
      "metadata": {
        "id": "NcgKgmEV6-xy"
      },
      "id": "NcgKgmEV6-xy"
    },
    {
      "cell_type": "code",
      "source": [
        "# find counts of each group\n",
        "df['group'].value_counts()"
      ],
      "metadata": {
        "id": "kDxnGTSh6x_q",
        "colab": {
          "base_uri": "https://localhost:8080/"
        },
        "outputId": "3952b0b6-67d8-4bb8-a0ce-293646e7b941"
      },
      "id": "kDxnGTSh6x_q",
      "execution_count": 14,
      "outputs": [
        {
          "output_type": "execute_result",
          "data": {
            "text/plain": [
              "control      50\n",
              "treatment    50\n",
              "Name: group, dtype: int64"
            ]
          },
          "metadata": {},
          "execution_count": 14
        }
      ]
    },
    {
      "cell_type": "code",
      "source": [
        "sns.countplot(data=df,x='group')\n",
        "plt.show()"
      ],
      "metadata": {
        "id": "k_eS0rjg7sf4",
        "colab": {
          "base_uri": "https://localhost:8080/",
          "height": 449
        },
        "outputId": "f574f787-3ce7-4393-863b-1043365851d4"
      },
      "id": "k_eS0rjg7sf4",
      "execution_count": 15,
      "outputs": [
        {
          "output_type": "display_data",
          "data": {
            "text/plain": [
              "<Figure size 640x480 with 1 Axes>"
            ],
            "image/png": "[encoded data removed]"
          },
          "metadata": {}
        }
      ]
    },
    {
      "cell_type": "markdown",
      "source": [
        "Observations:\n",
        "\n",
        "\n",
        "*  There are two different groups that are control and treatment groups.\n",
        "*  Each group has 50 users."
      ],
      "metadata": {
        "id": "Ox2aA5Rr7UZ8"
      },
      "id": "Ox2aA5Rr7UZ8"
    },
    {
      "cell_type": "markdown",
      "source": [
        "Observations on Landing Page"
      ],
      "metadata": {
        "id": "7BwrrW9X7477"
      },
      "id": "7BwrrW9X7477"
    },
    {
      "cell_type": "code",
      "source": [
        "# lets find counts of each group\n",
        "df['landing_page'].value_counts()\n"
      ],
      "metadata": {
        "id": "SCe2olev7-bX",
        "colab": {
          "base_uri": "https://localhost:8080/"
        },
        "outputId": "bcc6cb9d-a790-425a-ec44-52a3d2825731"
      },
      "id": "SCe2olev7-bX",
      "execution_count": 16,
      "outputs": [
        {
          "output_type": "execute_result",
          "data": {
            "text/plain": [
              "old    50\n",
              "new    50\n",
              "Name: landing_page, dtype: int64"
            ]
          },
          "metadata": {},
          "execution_count": 16
        }
      ]
    },
    {
      "cell_type": "code",
      "source": [
        "sns.countplot(data=df,x='landing_page')\n",
        "plt.show()"
      ],
      "metadata": {
        "id": "ur8CEEXv8Q03",
        "colab": {
          "base_uri": "https://localhost:8080/",
          "height": 450
        },
        "outputId": "e86e8029-b2e2-4e8a-93ac-142ef74a7903"
      },
      "id": "ur8CEEXv8Q03",
      "execution_count": 17,
      "outputs": [
        {
          "output_type": "display_data",
          "data": {
            "text/plain": [
              "<Figure size 640x480 with 1 Axes>"
            ],
            "image/png": "[encoded data removed]"
          },
          "metadata": {}
        }
      ]
    },
    {
      "cell_type": "markdown",
      "source": [
        "Observations:\n",
        "\n",
        "\n",
        "*   There are two type of landing pages; new and old.\n",
        "*   There are 50 users for each type of landing page.\n",
        "\n",
        "\n",
        "\n"
      ],
      "metadata": {
        "id": "K-4EOi7z_lvb"
      },
      "id": "K-4EOi7z_lvb"
    },
    {
      "cell_type": "markdown",
      "source": [
        "Observations on Converted"
      ],
      "metadata": {
        "id": "AjoaxIydAO0j"
      },
      "id": "AjoaxIydAO0j"
    },
    {
      "cell_type": "code",
      "source": [
        "# lets find the counts of each group\n",
        "df['converted'].value_counts()"
      ],
      "metadata": {
        "id": "1BoJo1O0Ael-",
        "colab": {
          "base_uri": "https://localhost:8080/"
        },
        "outputId": "e155301a-30d7-443b-a282-a2a3f7ed407b"
      },
      "id": "1BoJo1O0Ael-",
      "execution_count": 18,
      "outputs": [
        {
          "output_type": "execute_result",
          "data": {
            "text/plain": [
              "yes    54\n",
              "no     46\n",
              "Name: converted, dtype: int64"
            ]
          },
          "metadata": {},
          "execution_count": 18
        }
      ]
    },
    {
      "cell_type": "code",
      "source": [
        "\n",
        "sns.countplot(data=df,x='converted')\n",
        "plt.show()"
      ],
      "metadata": {
        "id": "SfHvEmljAvpo",
        "colab": {
          "base_uri": "https://localhost:8080/",
          "height": 449
        },
        "outputId": "f2e8b349-f603-437a-ac4c-b205ea55739a"
      },
      "id": "SfHvEmljAvpo",
      "execution_count": 19,
      "outputs": [
        {
          "output_type": "display_data",
          "data": {
            "text/plain": [
              "<Figure size 640x480 with 1 Axes>"
            ],
            "image/png": "[encoded data removed]"
          },
          "metadata": {}
        }
      ]
    },
    {
      "cell_type": "markdown",
      "source": [
        "Observations:\n",
        "\n",
        "\n",
        "*   There are two groups of data within 'converted' column that are 'Yes' and 'No'.\n",
        "*   There are more users (54) converted to a subscriber than users are not converted (46)\n",
        "\n"
      ],
      "metadata": {
        "id": "FLLPOnDDA4Vm"
      },
      "id": "FLLPOnDDA4Vm"
    },
    {
      "cell_type": "markdown",
      "source": [
        "Observations on Language Preferred"
      ],
      "metadata": {
        "id": "InofHtmyDAPO"
      },
      "id": "InofHtmyDAPO"
    },
    {
      "cell_type": "code",
      "source": [
        "# lets find the counts of each different language preferred\n",
        "df['language_preferred'].value_counts()"
      ],
      "metadata": {
        "id": "gDMrj1K9DHoT",
        "colab": {
          "base_uri": "https://localhost:8080/"
        },
        "outputId": "db1e4bce-4db0-44fe-8937-db981809176e"
      },
      "id": "gDMrj1K9DHoT",
      "execution_count": 20,
      "outputs": [
        {
          "output_type": "execute_result",
          "data": {
            "text/plain": [
              "Spanish    34\n",
              "French     34\n",
              "English    32\n",
              "Name: language_preferred, dtype: int64"
            ]
          },
          "metadata": {},
          "execution_count": 20
        }
      ]
    },
    {
      "cell_type": "code",
      "source": [
        "sns.countplot(data=df,x='language_preferred')\n",
        "plt.show()"
      ],
      "metadata": {
        "id": "k0qr0BCwDWiT",
        "colab": {
          "base_uri": "https://localhost:8080/",
          "height": 450
        },
        "outputId": "3b9e732f-195a-4544-9187-114b57191fd8"
      },
      "id": "k0qr0BCwDWiT",
      "execution_count": 21,
      "outputs": [
        {
          "output_type": "display_data",
          "data": {
            "text/plain": [
              "<Figure size 640x480 with 1 Axes>"
            ],
            "image/png": "[encoded data removed]"
          },
          "metadata": {}
        }
      ]
    },
    {
      "cell_type": "markdown",
      "source": [
        "Observations:\n",
        "\n",
        "\n",
        "*   Spanish (34 users) and French (34 users) are preferred slightly more than English (32 users).\n",
        "\n",
        "\n"
      ],
      "metadata": {
        "id": "-2MoLPiqDx_3"
      },
      "id": "-2MoLPiqDx_3"
    },
    {
      "cell_type": "markdown",
      "metadata": {
        "id": "fad2de2f"
      },
      "source": [
        "### Bivariate Analysis"
      ],
      "id": "fad2de2f"
    },
    {
      "cell_type": "markdown",
      "source": [
        "Relationship between landing page and time spent on the landing page"
      ],
      "metadata": {
        "id": "xkIV8j3fEoSc"
      },
      "id": "xkIV8j3fEoSc"
    },
    {
      "cell_type": "code",
      "metadata": {
        "id": "58e9a1d0",
        "colab": {
          "base_uri": "https://localhost:8080/",
          "height": 542
        },
        "outputId": "f8097239-be45-42fc-993f-e07c12d7d886"
      },
      "source": [
        "plt.figure(figsize=(8,6))\n",
        "sns.boxplot(data=df,x='landing_page',y='time_spent_on_the_page')\n",
        "plt.show()"
      ],
      "id": "58e9a1d0",
      "execution_count": 22,
      "outputs": [
        {
          "output_type": "display_data",
          "data": {
            "text/plain": [
              "<Figure size 800x600 with 1 Axes>"
            ],
            "image/png": "[encoded data removed]"
          },
          "metadata": {}
        }
      ]
    },
    {
      "cell_type": "code",
      "source": [
        "# find avearage time users spent on new and old landing page\n",
        "df.groupby(['landing_page'])['time_spent_on_the_page'].mean()"
      ],
      "metadata": {
        "id": "20NqxrrmGFWE",
        "colab": {
          "base_uri": "https://localhost:8080/"
        },
        "outputId": "259bf827-91ab-4986-f49a-4e5a10971d8e"
      },
      "id": "20NqxrrmGFWE",
      "execution_count": 23,
      "outputs": [
        {
          "output_type": "execute_result",
          "data": {
            "text/plain": [
              "landing_page\n",
              "new    6.2232\n",
              "old    4.5324\n",
              "Name: time_spent_on_the_page, dtype: float64"
            ]
          },
          "metadata": {},
          "execution_count": 23
        }
      ]
    },
    {
      "cell_type": "code",
      "source": [
        "# find median time users spent on new and old landing page\n",
        "df.groupby(['landing_page'])['time_spent_on_the_page'].median()"
      ],
      "metadata": {
        "id": "SGycK0tqIKHe",
        "colab": {
          "base_uri": "https://localhost:8080/"
        },
        "outputId": "366e7a06-578b-4f4d-eda8-c500363b2948"
      },
      "id": "SGycK0tqIKHe",
      "execution_count": 24,
      "outputs": [
        {
          "output_type": "execute_result",
          "data": {
            "text/plain": [
              "landing_page\n",
              "new    6.105\n",
              "old    4.380\n",
              "Name: time_spent_on_the_page, dtype: float64"
            ]
          },
          "metadata": {},
          "execution_count": 24
        }
      ]
    },
    {
      "cell_type": "markdown",
      "source": [
        "Observations:\n",
        "\n",
        "\n",
        "*   Average time users spent on new landing page (6.22 min) is longer than the users spent on old landing page (4.53 min).\n",
        "\n",
        "*   Median of the time users spent on new landing page (6.10 min) is longer than the users spent on old landing page (4.38 min).\n",
        "\n",
        "\n",
        "*  There are outliers for the data time spent on the new page.\n",
        "\n",
        "*  The range of time spent on the old page is greater than that of the new page. This indicates that the time users spend on the old page exhibits a wider range of variability, spanning from 0 to 10\n",
        "\n",
        "\n",
        "\n"
      ],
      "metadata": {
        "id": "gufddW6xGBcq"
      },
      "id": "gufddW6xGBcq"
    },
    {
      "cell_type": "markdown",
      "source": [
        "Relationship between conversion status and time spent on the landing page"
      ],
      "metadata": {
        "id": "r88BybDELaWS"
      },
      "id": "r88BybDELaWS"
    },
    {
      "cell_type": "code",
      "source": [
        "plt.figure(figsize=(8, 6))\n",
        "sns.boxplot(data = df, x ='converted', y = 'time_spent_on_the_page')\n",
        "plt.show()"
      ],
      "metadata": {
        "id": "A0Ly5NugLvzc",
        "colab": {
          "base_uri": "https://localhost:8080/",
          "height": 542
        },
        "outputId": "793bf552-62a2-4501-c47f-634984fcb8d5"
      },
      "id": "A0Ly5NugLvzc",
      "execution_count": 25,
      "outputs": [
        {
          "output_type": "display_data",
          "data": {
            "text/plain": [
              "<Figure size 800x600 with 1 Axes>"
            ],
            "image/png": "[encoded data removed]"
          },
          "metadata": {}
        }
      ]
    },
    {
      "cell_type": "code",
      "source": [
        "# find average time users spent based on conversion status\n",
        "df.groupby(['converted'])['time_spent_on_the_page'].mean()"
      ],
      "metadata": {
        "id": "ZLAB0G7-Mcym",
        "colab": {
          "base_uri": "https://localhost:8080/"
        },
        "outputId": "b83907a9-5554-4681-8626-133211b4bcb8"
      },
      "id": "ZLAB0G7-Mcym",
      "execution_count": 26,
      "outputs": [
        {
          "output_type": "execute_result",
          "data": {
            "text/plain": [
              "converted\n",
              "no     3.915870\n",
              "yes    6.623148\n",
              "Name: time_spent_on_the_page, dtype: float64"
            ]
          },
          "metadata": {},
          "execution_count": 26
        }
      ]
    },
    {
      "cell_type": "code",
      "source": [
        "# find median time users spent on based on conversion status\n",
        "df.groupby(['converted'])['time_spent_on_the_page'].median()"
      ],
      "metadata": {
        "id": "NsbDmYlcMmXl",
        "colab": {
          "base_uri": "https://localhost:8080/"
        },
        "outputId": "2980b61f-31ef-4bf7-d49b-61a86a5f7624"
      },
      "id": "NsbDmYlcMmXl",
      "execution_count": 27,
      "outputs": [
        {
          "output_type": "execute_result",
          "data": {
            "text/plain": [
              "converted\n",
              "no     3.980\n",
              "yes    6.495\n",
              "Name: time_spent_on_the_page, dtype: float64"
            ]
          },
          "metadata": {},
          "execution_count": 27
        }
      ]
    },
    {
      "cell_type": "markdown",
      "source": [
        "Observations:\n",
        "\n",
        "\n",
        "*   Average time users who converted to a subscriber spent (6.62 min) is longer than the time users who are not converted spent (3.91 min).\n",
        "\n",
        "*   Median of the time users who converted to a subscriber spent (6.49 min) is longer than the time users who are not converted spent (3.98 min).\n",
        "\n",
        "\n",
        "*  There are outliers for the data time spent by users who are converted to a subscriber.\n",
        "\n",
        "*  Overall, we observe that users who converted to a subscriber spent more time on the landing page. Further analysis has to be done to be able to conclude.\n",
        "\n",
        "\n",
        "\n"
      ],
      "metadata": {
        "id": "ES2ygiqFM8LP"
      },
      "id": "ES2ygiqFM8LP"
    },
    {
      "cell_type": "markdown",
      "source": [
        "Relationship between language preferred and time spent on the landing page"
      ],
      "metadata": {
        "id": "pKVr0dH2PDhz"
      },
      "id": "pKVr0dH2PDhz"
    },
    {
      "cell_type": "code",
      "source": [
        "plt.figure(figsize=(8, 6))\n",
        "sns.boxplot(data = df, x = 'language_preferred', y = 'time_spent_on_the_page')\n",
        "plt.show()"
      ],
      "metadata": {
        "id": "cxjJ-FSHPO1J",
        "colab": {
          "base_uri": "https://localhost:8080/",
          "height": 542
        },
        "outputId": "68874da7-126e-4a0c-f0b8-c365fc75bb95"
      },
      "id": "cxjJ-FSHPO1J",
      "execution_count": 28,
      "outputs": [
        {
          "output_type": "display_data",
          "data": {
            "text/plain": [
              "<Figure size 800x600 with 1 Axes>"
            ],
            "image/png": "[encoded data removed]"
          },
          "metadata": {}
        }
      ]
    },
    {
      "cell_type": "markdown",
      "source": [
        "Observations:\n",
        "\n",
        "\n",
        "*  Median value of time spent on the landing page by users who preferred French is slightly lower than the median value of the time spent on the landing page by users who preferred English and Spanish.\n",
        "*   Median value of time spent on the landing page by users who preferred Spanish and English are close.\n",
        "\n",
        "\n",
        "*   The range of time spent by users who preferred Spanish is narrower compared to the range observed for English and French preferences. This suggests that the time spent by Spanish-preferred users shows less variability across the data.\n",
        "\n",
        "\n",
        "\n",
        "\n",
        "\n"
      ],
      "metadata": {
        "id": "jo0WfTOYPyqX"
      },
      "id": "jo0WfTOYPyqX"
    },
    {
      "cell_type": "markdown",
      "metadata": {
        "id": "27906576"
      },
      "source": [
        "## 1. Do the users spend more time on the new landing page than the existing landing page?"
      ],
      "id": "27906576"
    },
    {
      "cell_type": "markdown",
      "metadata": {
        "id": "e5fdf0c8"
      },
      "source": [
        "### Perform Visual Analysis"
      ],
      "id": "e5fdf0c8"
    },
    {
      "cell_type": "code",
      "metadata": {
        "id": "6eZJa41eg21n",
        "colab": {
          "base_uri": "https://localhost:8080/",
          "height": 542
        },
        "outputId": "122a7572-9158-4363-cd50-5c3a9eaeac49"
      },
      "source": [
        "# lets reshow the visual analysis of time spent on each type of the landing pages\n",
        "plt.figure(figsize=(8,6))\n",
        "sns.boxplot(data=df,x='landing_page',y='time_spent_on_the_page')\n",
        "plt.show()"
      ],
      "id": "6eZJa41eg21n",
      "execution_count": 29,
      "outputs": [
        {
          "output_type": "display_data",
          "data": {
            "text/plain": [
              "<Figure size 800x600 with 1 Axes>"
            ],
            "image/png": "[encoded data removed]"
          },
          "metadata": {}
        }
      ]
    },
    {
      "cell_type": "markdown",
      "source": [],
      "metadata": {
        "id": "C2TAnkbqVFwd"
      },
      "id": "C2TAnkbqVFwd"
    },
    {
      "cell_type": "markdown",
      "metadata": {
        "id": "56b3dafd"
      },
      "source": [
        "### Step 1: Define the null and alternate hypotheses"
      ],
      "id": "56b3dafd"
    },
    {
      "cell_type": "markdown",
      "metadata": {
        "id": "d2ac77ef"
      },
      "source": [
        "Lets define null and alternate hypotheses!\n",
        "\n",
        "Let $\\mu$ be the mean time users spend on the current landing page.\n",
        "\n",
        "We will test the null hypothesis\n",
        "\n",
        " >$H_0$: $\\mu$ = 4.5 min\n",
        "\n",
        "against the alternate hypothesis\n",
        "\n",
        ">$H_a$: $\\mu$> 4.5 min\n",
        "\n"
      ],
      "id": "d2ac77ef"
    },
    {
      "cell_type": "markdown",
      "metadata": {
        "id": "c7ee4907"
      },
      "source": [
        "### Step 2: Select Appropriate test"
      ],
      "id": "c7ee4907"
    },
    {
      "cell_type": "markdown",
      "metadata": {
        "id": "2c183cd7"
      },
      "source": [
        "We will use one tailed test that compare two populations means from two independent populations.\n",
        "\n",
        "First, lets find the sample means and sample standard deviations for the two samples."
      ],
      "id": "2c183cd7"
    },
    {
      "cell_type": "code",
      "source": [
        "# find the sample means and sample standard deviations for the two samples\n",
        "print('The mean time spent on the new landing page is ' + str(df[df['landing_page'] == 'new']['time_spent_on_the_page'].mean()))\n",
        "print('The mean time spent on the old landing page is ' + str(df[df['landing_page'] == 'old']['time_spent_on_the_page'].mean()))\n",
        "print('The standard deviation of the time spent on the new landing page is ' + str(round(df[df['landing_page'] == 'new']['time_spent_on_the_page'].std(),2)))\n",
        "print('The standard deviation of the time spent on the old landing page is ' + str(round(df[df['landing_page'] == 'old']['time_spent_on_the_page'].std(),2)))\n"
      ],
      "metadata": {
        "id": "dcM5VE1JZzFd",
        "colab": {
          "base_uri": "https://localhost:8080/"
        },
        "outputId": "e31a41d2-0e89-4a24-8f14-e9ef34eb7736"
      },
      "id": "dcM5VE1JZzFd",
      "execution_count": 30,
      "outputs": [
        {
          "output_type": "stream",
          "name": "stdout",
          "text": [
            "The mean time spent on the new landing page is 6.2232\n",
            "The mean time spent on the old landing page is 4.532400000000001\n",
            "The standard deviation of the time spent on the new landing page is 1.82\n",
            "The standard deviation of the time spent on the old landing page is 2.58\n"
          ]
        }
      ]
    },
    {
      "cell_type": "markdown",
      "source": [
        "### Let's test whether the T-test assumptions are satisfied or not\n",
        "\n",
        "* Continuous data - Yes, the time spent on the landing page is on a continuous scale.\n",
        "* Normally distributed populations - Yes, we are informed that the populations are assumed to be normal. Moreover, n=50, greater than 30, assure that the distribution is normal because of the Central Limit Theorem.\n",
        "* Independent populations - As the samples are random samples for two different groups, these two samples are from two independent populations.\n",
        "* Unequal population standard deviations - As the sample standard deviations are different (1.82 and 2.58), the population standard deviations may be assumed to be different.\n",
        "* Random sampling from the population - Yes, we are given that the collected sample a simple random sample.\n",
        "\n",
        "Therefore, we can use two sample T-test for this problem.\n",
        "\n"
      ],
      "metadata": {
        "id": "IP-mpBMxcwfw"
      },
      "id": "IP-mpBMxcwfw"
    },
    {
      "cell_type": "markdown",
      "metadata": {
        "id": "3f58c9a7"
      },
      "source": [
        "### Step 3: Decide the significance level"
      ],
      "id": "3f58c9a7"
    },
    {
      "cell_type": "markdown",
      "metadata": {
        "id": "92d7d7ee"
      },
      "source": [
        "The significance level is given as 5 % in the problem.\n",
        "\n",
        "Therefore, we choose $\\alpha = 0.05$."
      ],
      "id": "92d7d7ee"
    },
    {
      "cell_type": "markdown",
      "metadata": {
        "id": "5fed2eac"
      },
      "source": [
        "### Step 4: Collect and prepare data"
      ],
      "id": "5fed2eac"
    },
    {
      "cell_type": "code",
      "source": [
        "# first create new dataframe for both new and old landing page users.\n",
        "time_spent_on_new_page=df[df['landing_page'] == 'new']['time_spent_on_the_page']\n",
        "time_spent_on_old_page=df[df['landing_page'] == 'old']['time_spent_on_the_page']"
      ],
      "metadata": {
        "id": "xs7GnAcGiR0g"
      },
      "id": "xs7GnAcGiR0g",
      "execution_count": 31,
      "outputs": []
    },
    {
      "cell_type": "code",
      "metadata": {
        "id": "f5a59495",
        "colab": {
          "base_uri": "https://localhost:8080/"
        },
        "outputId": "cf0832c0-689f-46d6-e6e2-ef5d1c968e59"
      },
      "source": [
        "# find the sample means and sample standard deviations for the two samples\n",
        "print('The mean time spent on the new landing page is ' + str(round(time_spent_on_new_page.mean(),2)))\n",
        "print('The mean time spent on the old landing page is ' + str(round(time_spent_on_old_page.mean(),2)))\n",
        "print('The standard deviation of the time spent on the new landing page is ' + str(round(time_spent_on_new_page.std(),2)))\n",
        "print('The standard deviation of the time spent on the old landing page is ' + str(round(time_spent_on_old_page.std(),2)))\n"
      ],
      "id": "f5a59495",
      "execution_count": 32,
      "outputs": [
        {
          "output_type": "stream",
          "name": "stdout",
          "text": [
            "The mean time spent on the new landing page is 6.22\n",
            "The mean time spent on the old landing page is 4.53\n",
            "The standard deviation of the time spent on the new landing page is 1.82\n",
            "The standard deviation of the time spent on the old landing page is 2.58\n"
          ]
        }
      ]
    },
    {
      "cell_type": "markdown",
      "source": [
        "The standard deviation of the time spent on the new landing page is found as 1.82.\n",
        "\n",
        "And the standard deviation of the time spent on the old landing page is found as 2.58.\n",
        "\n",
        "Therefore, we can conclude that the population standard deviations can be assumed not equal since 1.82 and 2.58 are not close enough."
      ],
      "metadata": {
        "id": "xeraC3rNgqWa"
      },
      "id": "xeraC3rNgqWa"
    },
    {
      "cell_type": "markdown",
      "metadata": {
        "id": "f5c5258d"
      },
      "source": [
        "### Step 5: Calculate the p-value"
      ],
      "id": "f5c5258d"
    },
    {
      "cell_type": "markdown",
      "source": [
        "The [`ttest_ind()`](https://docs.scipy.org/doc/scipy/reference/generated/scipy.stats.ttest_ind.html) function of Scipy will be used to compute the test statistic and p-value."
      ],
      "metadata": {
        "id": "rnh5nSyrhyYx"
      },
      "id": "rnh5nSyrhyYx"
    },
    {
      "cell_type": "code",
      "metadata": {
        "id": "fac8594a",
        "colab": {
          "base_uri": "https://localhost:8080/"
        },
        "outputId": "4270705d-e9ff-4793-ec53-890b8081d964"
      },
      "source": [
        "# lets import the required function\n",
        "from scipy.stats import ttest_ind\n",
        "\n",
        "# find the p-value\n",
        "test_stat, p_value = ttest_ind(time_spent_on_new_page, time_spent_on_old_page, equal_var = False , alternative = 'greater')\n",
        "print('The p-value is', p_value)"
      ],
      "id": "fac8594a",
      "execution_count": 33,
      "outputs": [
        {
          "output_type": "stream",
          "name": "stdout",
          "text": [
            "The p-value is 0.0001392381225166549\n"
          ]
        }
      ]
    },
    {
      "cell_type": "markdown",
      "metadata": {
        "id": "359b12f8"
      },
      "source": [
        "### Step 6: Compare the p-value with $\\alpha$"
      ],
      "id": "359b12f8"
    },
    {
      "cell_type": "code",
      "metadata": {
        "id": "7be47289",
        "colab": {
          "base_uri": "https://localhost:8080/"
        },
        "outputId": "1b310583-57e7-46db-f774-dd8b6a37532f"
      },
      "source": [
        "alpha = 0.05  # Significance level\n",
        "if p_value < alpha:\n",
        "    print(\"Reject the null hypothesis. There is evidence that time spent on new landing page is greater.\")\n",
        "else:\n",
        "    print(\"Fail to reject the null hypothesis. No significant evidence of a difference in time spent in new and old landing pages.\")"
      ],
      "id": "7be47289",
      "execution_count": 34,
      "outputs": [
        {
          "output_type": "stream",
          "name": "stdout",
          "text": [
            "Reject the null hypothesis. There is evidence that time spent on new landing page is greater.\n"
          ]
        }
      ]
    },
    {
      "cell_type": "markdown",
      "metadata": {
        "id": "d9affc84"
      },
      "source": [
        "### Step 7:  Draw inference"
      ],
      "id": "d9affc84"
    },
    {
      "cell_type": "markdown",
      "metadata": {
        "id": "6b16dd4b"
      },
      "source": [
        "The p-value, around 0.0001, is smaller than our set significance level of 0.05. This means we can reject the null hypothesis. So, we have strong evidence that users spend more time on the new landing page than the old one."
      ],
      "id": "6b16dd4b"
    },
    {
      "cell_type": "markdown",
      "metadata": {
        "id": "353e9d24"
      },
      "source": [
        "## 2. Is the conversion rate (the proportion of users who visit the landing page and get converted) for the new page greater than the conversion rate for the old page?"
      ],
      "id": "353e9d24"
    },
    {
      "cell_type": "markdown",
      "source": [
        "Lets start with collecting and preparing data"
      ],
      "metadata": {
        "id": "UCMlpvGWyJB0"
      },
      "id": "UCMlpvGWyJB0"
    },
    {
      "cell_type": "code",
      "source": [
        "# Filter the DataFrame based on conditions\n",
        "new_page_users_converted = df[(df['landing_page'] == 'new') & (df['converted'] == 'yes')]\n",
        "\n",
        "# Get the count of users who fit the criteria\n",
        "num_new_page_users_converted = len(new_page_users_converted)\n",
        "\n",
        "# Print the result\n",
        "print(f\"Number of new landing page users converted to subscribers: {num_new_page_users_converted}\")"
      ],
      "metadata": {
        "id": "nhVrsXCFjWEj",
        "colab": {
          "base_uri": "https://localhost:8080/"
        },
        "outputId": "60752755-ec6d-43fe-a567-ead9c0bf815f"
      },
      "id": "nhVrsXCFjWEj",
      "execution_count": 35,
      "outputs": [
        {
          "output_type": "stream",
          "name": "stdout",
          "text": [
            "Number of new landing page users converted to subscribers: 33\n"
          ]
        }
      ]
    },
    {
      "cell_type": "code",
      "source": [
        "# Filter the DataFrame based on conditions\n",
        "old_page_users_converted = df[(df['landing_page'] == 'old') & (df['converted'] == 'yes')]\n",
        "\n",
        "# Get the count of users who fit the criteria\n",
        "num_old_page_users_converted = len(old_page_users_converted)\n",
        "\n",
        "# Print the result\n",
        "print(f\"Number of old landing page users converted to subscribers: {num_old_page_users_converted}\")"
      ],
      "metadata": {
        "id": "AC-fpNLGkn32",
        "colab": {
          "base_uri": "https://localhost:8080/"
        },
        "outputId": "9e443ab3-70bf-43f5-9421-e899a15e0ed6"
      },
      "id": "AC-fpNLGkn32",
      "execution_count": 36,
      "outputs": [
        {
          "output_type": "stream",
          "name": "stdout",
          "text": [
            "Number of old landing page users converted to subscribers: 21\n"
          ]
        }
      ]
    },
    {
      "cell_type": "code",
      "source": [
        "# lets find the conversion rate for both new page and old page\n",
        "old_users = df.group.value_counts()['control'] # total number of users in the control group\n",
        "new_users = df.group.value_counts()['treatment'] # total number of users in the treatment group\n",
        "old_conversion_rate = (num_old_page_users_converted / old_users) * 100\n",
        "new_conversion_rate = (num_new_page_users_converted / new_users) * 100\n",
        "\n",
        "# Print the conversion rates\n",
        "print(f\"Old Page Conversion Rate: {old_conversion_rate:.2f}%\")\n",
        "print(f\"New Page Conversion Rate: {new_conversion_rate:.2f}%\")"
      ],
      "metadata": {
        "id": "eb9UjdAXfokA",
        "colab": {
          "base_uri": "https://localhost:8080/"
        },
        "outputId": "748563b9-5138-4b17-e491-20b434a61286"
      },
      "id": "eb9UjdAXfokA",
      "execution_count": 37,
      "outputs": [
        {
          "output_type": "stream",
          "name": "stdout",
          "text": [
            "Old Page Conversion Rate: 42.00%\n",
            "New Page Conversion Rate: 66.00%\n"
          ]
        }
      ]
    },
    {
      "cell_type": "code",
      "source": [
        "conversion_rates = {\n",
        "    'old_conversion_rate': 0.42,  # Replace with actual conversion rate for old page\n",
        "    'new_conversion_rate': 0.66  # Replace with actual conversion rate for new page\n",
        "}\n"
      ],
      "metadata": {
        "id": "gSfkmwACfZOC"
      },
      "id": "gSfkmwACfZOC",
      "execution_count": 38,
      "outputs": []
    },
    {
      "cell_type": "markdown",
      "source": [
        "###Perform Visual Analysis"
      ],
      "metadata": {
        "id": "szvAO-bqZyuT"
      },
      "id": "szvAO-bqZyuT"
    },
    {
      "cell_type": "code",
      "source": [
        "# Extract labels and conversion rates from the dictionary\n",
        "labels = list(conversion_rates.keys())\n",
        "values = list(conversion_rates.values())\n",
        "\n",
        "# Create a bar chart\n",
        "plt.bar(labels, values, color=['blue', 'green'])\n",
        "\n",
        "# Add labels and title\n",
        "plt.xlabel('Page')\n",
        "plt.ylabel('Conversion Rate')\n",
        "plt.title('Comparison of Conversion Rates: Old Page vs. New Page')\n",
        "\n",
        "# Show the plot\n",
        "plt.show()\n"
      ],
      "metadata": {
        "id": "p1uH9GePnKGR",
        "colab": {
          "base_uri": "https://localhost:8080/",
          "height": 472
        },
        "outputId": "3cf92ff3-95af-47b5-dfe6-dec5efebe10f"
      },
      "id": "p1uH9GePnKGR",
      "execution_count": 39,
      "outputs": [
        {
          "output_type": "display_data",
          "data": {
            "text/plain": [
              "<Figure size 640x480 with 1 Axes>"
            ],
            "image/png": "[encoded data removed]"
          },
          "metadata": {}
        }
      ]
    },
    {
      "cell_type": "code",
      "source": [
        "\n",
        "# lets compare the conversion rate for the new page and the conversion rate for the old page\n",
        "pd.crosstab(df['landing_page'], df['converted'], normalize='index').plot(kind=\"bar\", figsize=(6, 8), stacked=True)\n",
        "plt.legend()\n",
        "plt.title('Comparison of Conversion Rates: New Page vs. Old Page')\n",
        "plt.xlabel('Landing Page')\n",
        "plt.ylabel('Proportion')\n",
        "plt.xticks(rotation=0)\n",
        "plt.show()\n"
      ],
      "metadata": {
        "id": "jkB_EVLqn4Ks",
        "colab": {
          "base_uri": "https://localhost:8080/",
          "height": 718
        },
        "outputId": "815920ad-a14a-481f-b7e1-7717fdf394da"
      },
      "id": "jkB_EVLqn4Ks",
      "execution_count": 40,
      "outputs": [
        {
          "output_type": "display_data",
          "data": {
            "text/plain": [
              "<Figure size 600x800 with 1 Axes>"
            ],
            "image/png": "[encoded data removed]"
          },
          "metadata": {}
        }
      ]
    },
    {
      "cell_type": "markdown",
      "source": [
        "### Step 1: Define the null and alternate hypotheses"
      ],
      "metadata": {
        "id": "JHMOrdeqpuzY"
      },
      "id": "JHMOrdeqpuzY"
    },
    {
      "cell_type": "markdown",
      "source": [
        "\n",
        "Let $p_1,p_2$ be the proportions of users who visit the landing page and get converted for the new page and the old page respectively.\n",
        "\n",
        "We will test the null hypothesis\n",
        "\n",
        ">$H_0:p_1 =p_2$\n",
        "\n",
        "against the alternate hypothesis\n",
        "\n",
        ">$H_a:p_1 < p_2$"
      ],
      "metadata": {
        "id": "PYbuJGX7c719"
      },
      "id": "PYbuJGX7c719"
    },
    {
      "cell_type": "markdown",
      "source": [
        "### Step 2: Select Appropriate test\n",
        "\n",
        " We will use a one-tailed test concerning two population proportions from two independent populations."
      ],
      "metadata": {
        "id": "N7QY3SPsrNv9"
      },
      "id": "N7QY3SPsrNv9"
    },
    {
      "cell_type": "markdown",
      "source": [
        "### Let's test whether the Z-test assumptions are satisfied or not\n",
        "\n",
        "*   Binomally distributed population - Yes, a users were either on new page or old page..\n",
        "*   Random sampling from the population - Yes, we are informed that the collected sample is a simple random sample.  \n",
        "*   Can the binomial distribution approximated to normal distribution - Yes. For binary data, CLT works slower than usual. The standard thing is to check whether np and n(1-p) are greater than or equal to 10. Here, n and p refer to the sample size and sample proportion respectively.\n",
        ">$np_1 = 50\\cdot 0.42 = 21 \\geq 10 \\\\\n",
        "n(1-p_1) = 50 \\cdot 0.58 =26\\geq 10 \\\\\n",
        "np_2 = 50\\cdot 0.66 =33 \\geq 10\\\\\n",
        "n(1-p_2) = 50\\cdot 0.44 =22 \\geq 10 $\n"
      ],
      "metadata": {
        "id": "AfKll9oKdka3"
      },
      "id": "AfKll9oKdka3"
    },
    {
      "cell_type": "markdown",
      "source": [
        "### Step 3: Decide the significance level"
      ],
      "metadata": {
        "id": "qmOHf09XriIL"
      },
      "id": "qmOHf09XriIL"
    },
    {
      "cell_type": "markdown",
      "source": [
        "The significance level is given as 5 % in the problem.\n",
        "\n",
        "Therefore, we choose $\\alpha = 0.05$."
      ],
      "metadata": {
        "id": "c7jk3EcWrvBs"
      },
      "id": "c7jk3EcWrvBs"
    },
    {
      "cell_type": "markdown",
      "source": [
        "### Step 4: Calculate the p-value"
      ],
      "metadata": {
        "id": "M-KCVVD1r_wB"
      },
      "id": "M-KCVVD1r_wB"
    },
    {
      "cell_type": "markdown",
      "source": [
        "The proportions_ztest() function of statmodels will be used to compute the test statistic and p-value."
      ],
      "metadata": {
        "id": "E22_-hYbwwFF"
      },
      "id": "E22_-hYbwwFF"
    },
    {
      "cell_type": "code",
      "source": [
        "# import the required fuction\n",
        "from statsmodels.stats.proportion import proportions_ztest\n",
        "\n",
        "# set the counts of defective items\n",
        "converted_count = np.array([33, 21])\n",
        "\n",
        "# set the sample sizes\n",
        "nobs = np.array([50, 50])\n",
        "\n",
        "# find the p-value\n",
        "test_stat, p_value = proportions_ztest(converted_count, nobs, alternative='larger')\n",
        "print('The p-value is ' + str(p_value))"
      ],
      "metadata": {
        "id": "jXyFYGcGt30u",
        "colab": {
          "base_uri": "https://localhost:8080/"
        },
        "outputId": "96974cce-c244-49be-990f-796457361da5"
      },
      "id": "jXyFYGcGt30u",
      "execution_count": 41,
      "outputs": [
        {
          "output_type": "stream",
          "name": "stdout",
          "text": [
            "The p-value is 0.008026308204056278\n"
          ]
        }
      ]
    },
    {
      "cell_type": "markdown",
      "source": [
        "###Step 5: Compare the p-value with $\\alpha$"
      ],
      "metadata": {
        "id": "TBW6ayb3vsN5"
      },
      "id": "TBW6ayb3vsN5"
    },
    {
      "cell_type": "code",
      "source": [
        "alpha = 0.05  # Significance level\n",
        "if p_value < alpha:\n",
        "    print(\"Reject the null hypothesis. There is evidence that conversion rate for the new page greater than the conversion rate for the old page.\")\n",
        "else:\n",
        "    print(\"Fail to reject the null hypothesis. No significant evidence of conversion rate for the new page greater than the conversion rate for the old page\")"
      ],
      "metadata": {
        "id": "PaEtVVDNv2ph",
        "colab": {
          "base_uri": "https://localhost:8080/"
        },
        "outputId": "6b5998db-021d-469e-e4bb-84ef07afdb54"
      },
      "id": "PaEtVVDNv2ph",
      "execution_count": 42,
      "outputs": [
        {
          "output_type": "stream",
          "name": "stdout",
          "text": [
            "Reject the null hypothesis. There is evidence that conversion rate for the new page greater than the conversion rate for the old page.\n"
          ]
        }
      ]
    },
    {
      "cell_type": "markdown",
      "source": [
        "###Step 6: Draw inference"
      ],
      "metadata": {
        "id": "x57uUMeixROC"
      },
      "id": "x57uUMeixROC"
    },
    {
      "cell_type": "markdown",
      "source": [
        "As the p-value is less than the significance level 0.05, we can reject the null hypothesis. Thus, we have enough statistical significance to conclude that conversion rate for the new page greater than the conversion rate for the old page."
      ],
      "metadata": {
        "id": "vK8N-U_ixdcb"
      },
      "id": "vK8N-U_ixdcb"
    },
    {
      "cell_type": "markdown",
      "metadata": {
        "id": "d49bfa2d"
      },
      "source": [
        "## 3. Is the conversion and preferred language are independent or related?"
      ],
      "id": "d49bfa2d"
    },
    {
      "cell_type": "markdown",
      "source": [
        "Lets start collecting and preparing data"
      ],
      "metadata": {
        "id": "vEK65fua2wPh"
      },
      "id": "vEK65fua2wPh"
    },
    {
      "cell_type": "code",
      "source": [
        "# create a contingency table showing the distribution of the two categorical variables\n",
        "contingency_table = pd.crosstab(df['converted'], df['language_preferred'])\n",
        "contingency_table"
      ],
      "metadata": {
        "id": "dB4R48CM21-M",
        "colab": {
          "base_uri": "https://localhost:8080/",
          "height": 143
        },
        "outputId": "9de9e3b2-74e0-45df-e44c-a1853eb30509"
      },
      "id": "dB4R48CM21-M",
      "execution_count": 43,
      "outputs": [
        {
          "output_type": "execute_result",
          "data": {
            "text/plain": [
              "language_preferred  English  French  Spanish\n",
              "converted                                   \n",
              "no                       11      19       16\n",
              "yes                      21      15       18"
            ],
            "text/html": [
              "\n",
              "\n",
              "  <div id=\"df-09850828-53aa-473a-9bda-ca9124c7db1b\">\n",
              "    <div class=\"colab-df-container\">\n",
              "      <div>\n",
              "<style scoped>\n",
              "    .dataframe tbody tr th:only-of-type {\n",
              "        vertical-align: middle;\n",
              "    }\n",
              "\n",
              "    .dataframe tbody tr th {\n",
              "        vertical-align: top;\n",
              "    }\n",
              "\n",
              "    .dataframe thead th {\n",
              "        text-align: right;\n",
              "    }\n",
              "</style>\n",
              "<table border=\"1\" class=\"dataframe\">\n",
              "  <thead>\n",
              "    <tr style=\"text-align: right;\">\n",
              "      <th>language_preferred</th>\n",
              "      <th>English</th>\n",
              "      <th>French</th>\n",
              "      <th>Spanish</th>\n",
              "    </tr>\n",
              "    <tr>\n",
              "      <th>converted</th>\n",
              "      <th></th>\n",
              "      <th></th>\n",
              "      <th></th>\n",
              "    </tr>\n",
              "  </thead>\n",
              "  <tbody>\n",
              "    <tr>\n",
              "      <th>no</th>\n",
              "      <td>11</td>\n",
              "      <td>19</td>\n",
              "      <td>16</td>\n",
              "    </tr>\n",
              "    <tr>\n",
              "      <th>yes</th>\n",
              "      <td>21</td>\n",
              "      <td>15</td>\n",
              "      <td>18</td>\n",
              "    </tr>\n",
              "  </tbody>\n",
              "</table>\n",
              "</div>\n",
              "      <button class=\"colab-df-convert\" onclick=\"convertToInteractive('df-09850828-53aa-473a-9bda-ca9124c7db1b')\"\n",
              "              title=\"Convert this dataframe to an interactive table.\"\n",
              "              style=\"display:none;\">\n",
              "\n",
              "  <svg xmlns=\"http://www.w3.org/2000/svg\" height=\"24px\"viewBox=\"0 0 24 24\"\n",
              "       width=\"24px\">\n",
              "    <path d=\"M0 0h24v24H0V0z\" fill=\"none\"/>\n",
              "    <path d=\"M18.56 5.44l.94 2.06.94-2.06 2.06-.94-2.06-.94-.94-2.06-.94 2.06-2.06.94zm-11 1L8.5 8.5l.94-2.06 2.06-.94-2.06-.94L8.5 2.5l-.94 2.06-2.06.94zm10 10l.94 2.06.94-2.06 2.06-.94-2.06-.94-.94-2.06-.94 2.06-2.06.94z\"/><path d=\"M17.41 7.96l-1.37-1.37c-.4-.4-.92-.59-1.43-.59-.52 0-1.04.2-1.43.59L10.3 9.45l-7.72 7.72c-.78.78-.78 2.05 0 2.83L4 21.41c.39.39.9.59 1.41.59.51 0 1.02-.2 1.41-.59l7.78-7.78 2.81-2.81c.8-.78.8-2.07 0-2.86zM5.41 20L4 18.59l7.72-7.72 1.47 1.35L5.41 20z\"/>\n",
              "  </svg>\n",
              "      </button>\n",
              "\n",
              "\n",
              "\n",
              "    <div id=\"df-73ebb698-2452-471d-8ddd-821f62f3794a\">\n",
              "      <button class=\"colab-df-quickchart\" onclick=\"quickchart('df-73ebb698-2452-471d-8ddd-821f62f3794a')\"\n",
              "              title=\"Suggest charts.\"\n",
              "              style=\"display:none;\">\n",
              "\n",
              "<svg xmlns=\"http://www.w3.org/2000/svg\" height=\"24px\"viewBox=\"0 0 24 24\"\n",
              "     width=\"24px\">\n",
              "    <g>\n",
              "        <path d=\"M19 3H5c-1.1 0-2 .9-2 2v14c0 1.1.9 2 2 2h14c1.1 0 2-.9 2-2V5c0-1.1-.9-2-2-2zM9 17H7v-7h2v7zm4 0h-2V7h2v10zm4 0h-2v-4h2v4z\"/>\n",
              "    </g>\n",
              "</svg>\n",
              "      </button>\n",
              "    </div>\n",
              "\n",
              "<style>\n",
              "  .colab-df-quickchart {\n",
              "    background-color: #E8F0FE;\n",
              "    border: none;\n",
              "    border-radius: 50%;\n",
              "    cursor: pointer;\n",
              "    display: none;\n",
              "    fill: #1967D2;\n",
              "    height: 32px;\n",
              "    padding: 0 0 0 0;\n",
              "    width: 32px;\n",
              "  }\n",
              "\n",
              "  .colab-df-quickchart:hover {\n",
              "    background-color: #E2EBFA;\n",
              "    box-shadow: 0px 1px 2px rgba(60, 64, 67, 0.3), 0px 1px 3px 1px rgba(60, 64, 67, 0.15);\n",
              "    fill: #174EA6;\n",
              "  }\n",
              "\n",
              "  [theme=dark] .colab-df-quickchart {\n",
              "    background-color: #3B4455;\n",
              "    fill: #D2E3FC;\n",
              "  }\n",
              "\n",
              "  [theme=dark] .colab-df-quickchart:hover {\n",
              "    background-color: #434B5C;\n",
              "    box-shadow: 0px 1px 3px 1px rgba(0, 0, 0, 0.15);\n",
              "    filter: drop-shadow(0px 1px 2px rgba(0, 0, 0, 0.3));\n",
              "    fill: #FFFFFF;\n",
              "  }\n",
              "</style>\n",
              "\n",
              "    <script>\n",
              "      async function quickchart(key) {\n",
              "        const containerElement = document.querySelector('#' + key);\n",
              "        const charts = await google.colab.kernel.invokeFunction(\n",
              "            'suggestCharts', [key], {});\n",
              "      }\n",
              "    </script>\n",
              "\n",
              "      <script>\n",
              "\n",
              "function displayQuickchartButton(domScope) {\n",
              "  let quickchartButtonEl =\n",
              "    domScope.querySelector('#df-73ebb698-2452-471d-8ddd-821f62f3794a button.colab-df-quickchart');\n",
              "  quickchartButtonEl.style.display =\n",
              "    google.colab.kernel.accessAllowed ? 'block' : 'none';\n",
              "}\n",
              "\n",
              "        displayQuickchartButton(document);\n",
              "      </script>\n",
              "      <style>\n",
              "    .colab-df-container {\n",
              "      display:flex;\n",
              "      flex-wrap:wrap;\n",
              "      gap: 12px;\n",
              "    }\n",
              "\n",
              "    .colab-df-convert {\n",
              "      background-color: #E8F0FE;\n",
              "      border: none;\n",
              "      border-radius: 50%;\n",
              "      cursor: pointer;\n",
              "      display: none;\n",
              "      fill: #1967D2;\n",
              "      height: 32px;\n",
              "      padding: 0 0 0 0;\n",
              "      width: 32px;\n",
              "    }\n",
              "\n",
              "    .colab-df-convert:hover {\n",
              "      background-color: #E2EBFA;\n",
              "      box-shadow: 0px 1px 2px rgba(60, 64, 67, 0.3), 0px 1px 3px 1px rgba(60, 64, 67, 0.15);\n",
              "      fill: #174EA6;\n",
              "    }\n",
              "\n",
              "    [theme=dark] .colab-df-convert {\n",
              "      background-color: #3B4455;\n",
              "      fill: #D2E3FC;\n",
              "    }\n",
              "\n",
              "    [theme=dark] .colab-df-convert:hover {\n",
              "      background-color: #434B5C;\n",
              "      box-shadow: 0px 1px 3px 1px rgba(0, 0, 0, 0.15);\n",
              "      filter: drop-shadow(0px 1px 2px rgba(0, 0, 0, 0.3));\n",
              "      fill: #FFFFFF;\n",
              "    }\n",
              "  </style>\n",
              "\n",
              "      <script>\n",
              "        const buttonEl =\n",
              "          document.querySelector('#df-09850828-53aa-473a-9bda-ca9124c7db1b button.colab-df-convert');\n",
              "        buttonEl.style.display =\n",
              "          google.colab.kernel.accessAllowed ? 'block' : 'none';\n",
              "\n",
              "        async function convertToInteractive(key) {\n",
              "          const element = document.querySelector('#df-09850828-53aa-473a-9bda-ca9124c7db1b');\n",
              "          const dataTable =\n",
              "            await google.colab.kernel.invokeFunction('convertToInteractive',\n",
              "                                                     [key], {});\n",
              "          if (!dataTable) return;\n",
              "\n",
              "          const docLinkHtml = 'Like what you see? Visit the ' +\n",
              "            '<a target=\"_blank\" href=https://colab.research.google.com/notebooks/data_table.ipynb>data table notebook</a>'\n",
              "            + ' to learn more about interactive tables.';\n",
              "          element.innerHTML = '';\n",
              "          dataTable['output_type'] = 'display_data';\n",
              "          await google.colab.output.renderOutput(dataTable, element);\n",
              "          const docLink = document.createElement('div');\n",
              "          docLink.innerHTML = docLinkHtml;\n",
              "          element.appendChild(docLink);\n",
              "        }\n",
              "      </script>\n",
              "    </div>\n",
              "  </div>\n"
            ]
          },
          "metadata": {},
          "execution_count": 43
        }
      ]
    },
    {
      "cell_type": "markdown",
      "source": [
        "###Perfom Visual Analysis"
      ],
      "metadata": {
        "id": "0yxRBAP1zbKR"
      },
      "id": "0yxRBAP1zbKR"
    },
    {
      "cell_type": "code",
      "source": [
        "# create a bar chart of the contingency table\n",
        "contingency_table.plot(kind=\"bar\", figsize=(8, 6))\n",
        "plt.title('Dependency between Conversion Status and Preferred Language')\n",
        "plt.xlabel('Conversion Status')\n",
        "plt.ylabel('Count')\n",
        "plt.xticks(rotation=0)\n",
        "plt.legend(title='Preferred Language')\n",
        "plt.show()\n"
      ],
      "metadata": {
        "id": "ZDCraaJ13Rtd",
        "colab": {
          "base_uri": "https://localhost:8080/",
          "height": 564
        },
        "outputId": "caa8bd0d-4407-46f0-e3c5-43b8ede19b45"
      },
      "id": "ZDCraaJ13Rtd",
      "execution_count": 44,
      "outputs": [
        {
          "output_type": "display_data",
          "data": {
            "text/plain": [
              "<Figure size 800x600 with 1 Axes>"
            ],
            "image/png": "[encoded data removed]"
          },
          "metadata": {}
        }
      ]
    },
    {
      "cell_type": "code",
      "metadata": {
        "id": "b0e63f17",
        "colab": {
          "base_uri": "https://localhost:8080/",
          "height": 718
        },
        "outputId": "5c2abb8b-b2ff-4806-bb68-1a2b59eccaab"
      },
      "source": [
        "# lets visually plot the dependency between conversion status and preferred language with another way\n",
        "pd.crosstab(df['converted'], df['language_preferred'], normalize='index').plot(kind=\"bar\", figsize=(6, 8), stacked=True)\n",
        "plt.legend()\n",
        "plt.title('Dependency between Conversion Status and Preferred Language')\n",
        "plt.xlabel('Conversion Status')\n",
        "plt.ylabel('Proportion')\n",
        "plt.xticks(rotation=0)\n",
        "plt.show()\n"
      ],
      "id": "b0e63f17",
      "execution_count": 45,
      "outputs": [
        {
          "output_type": "display_data",
          "data": {
            "text/plain": [
              "<Figure size 600x800 with 1 Axes>"
            ],
            "image/png": "[encoded data removed]"
          },
          "metadata": {}
        }
      ]
    },
    {
      "cell_type": "markdown",
      "source": [
        "### Step 1: Define the null and alternate hypotheses"
      ],
      "metadata": {
        "id": "9tsQ5iTMzxf8"
      },
      "id": "9tsQ5iTMzxf8"
    },
    {
      "cell_type": "markdown",
      "source": [
        "Let's write the null and alternative hypothesis\n",
        "\n",
        "\n",
        "We will test the null hypothesis\n",
        "\n",
        ">$H_0:$ Conversion is independent of preferred language.\n",
        "\n",
        "against the alternate hypothesis\n",
        "\n",
        ">$H_a:$ Conversion depends on preferred language."
      ],
      "metadata": {
        "id": "5imWE5ukz57Y"
      },
      "id": "5imWE5ukz57Y"
    },
    {
      "cell_type": "markdown",
      "source": [
        "### Let's test whether the assumptions are satisfied or not\n",
        "\n",
        "* Categorical variables - Yes\n",
        "* Expected value of the number of sample observations in each level of the variable is at least 5 - Yes, the number of observations in each level is greater than 5.\n",
        "* Random sampling from the population - Yes, we are informed that the collected sample is a simple random sample."
      ],
      "metadata": {
        "id": "qczQS1x-0cIV"
      },
      "id": "qczQS1x-0cIV"
    },
    {
      "cell_type": "markdown",
      "source": [
        "###Step 2: Select Appropriate Test"
      ],
      "metadata": {
        "id": "1TQ7QKmA0hvB"
      },
      "id": "1TQ7QKmA0hvB"
    },
    {
      "cell_type": "markdown",
      "source": [
        "This is a problem of the test of independence, concerning two categorical variables - converted status and preferred language.\n",
        "Therefore, we will use the [`chi2_contingency()`](https://docs.scipy.org/doc/scipy/reference/generated/scipy.stats.chi2_contingency.html) function of Scipy will be used to compute the test statistic and p-value."
      ],
      "metadata": {
        "id": "E4Nv2fHt0v6f"
      },
      "id": "E4Nv2fHt0v6f"
    },
    {
      "cell_type": "markdown",
      "source": [
        "###Step 3: Decide the significance level"
      ],
      "metadata": {
        "id": "2x5UdTz11G3f"
      },
      "id": "2x5UdTz11G3f"
    },
    {
      "cell_type": "markdown",
      "source": [
        "The significance level is given as 5 % in the problem.\n",
        "\n",
        "Therefore, we choose $\\alpha = 0.05$."
      ],
      "metadata": {
        "id": "kPhaqA8k1Rx6"
      },
      "id": "kPhaqA8k1Rx6"
    },
    {
      "cell_type": "markdown",
      "source": [
        "###Step 4: Calculate the p-value"
      ],
      "metadata": {
        "id": "_w1hCAD436yH"
      },
      "id": "_w1hCAD436yH"
    },
    {
      "cell_type": "markdown",
      "source": [
        "The significance level is given as 5 % in the problem.\n",
        "\n",
        "Therefore, we choose $\\alpha = 0.05$."
      ],
      "metadata": {
        "id": "r6U4zsVQVvRu"
      },
      "id": "r6U4zsVQVvRu"
    },
    {
      "cell_type": "code",
      "source": [
        "# perform the Chi-Square test of independence\n",
        "from scipy.stats import chi2_contingency\n",
        "chi2, p_value, dof, expected = chi2_contingency(contingency_table)\n",
        "\n",
        "# print the Chi-Square test results\n",
        "print(\"Chi-Square Value:\", chi2)\n",
        "print(\"P-Value:\", p_value)\n"
      ],
      "metadata": {
        "id": "pq2f_k9L1lA6",
        "colab": {
          "base_uri": "https://localhost:8080/"
        },
        "outputId": "e7dca3b5-dd55-4e61-e45c-8655ec617fd8"
      },
      "id": "pq2f_k9L1lA6",
      "execution_count": 46,
      "outputs": [
        {
          "output_type": "stream",
          "name": "stdout",
          "text": [
            "Chi-Square Value: 3.0930306905370837\n",
            "P-Value: 0.21298887487543447\n"
          ]
        }
      ]
    },
    {
      "cell_type": "markdown",
      "source": [
        "### Step 5:  Compare the p-value with $\\alpha$"
      ],
      "metadata": {
        "id": "yB6iamZD4fZt"
      },
      "id": "yB6iamZD4fZt"
    },
    {
      "cell_type": "code",
      "source": [
        "alpha = 0.05  # Significance level\n",
        "if p_value < alpha:\n",
        "    print(\"Reject the null hypothesis. There is evidence that conversion depends on preferred language.\")\n",
        "else:\n",
        "    print(\"Fail to reject the null hypothesis. No significant evidence of conversion depends on preferred language.\")"
      ],
      "metadata": {
        "id": "6LsCBwQ95Exi",
        "colab": {
          "base_uri": "https://localhost:8080/"
        },
        "outputId": "cd1a1394-8ba0-44aa-ada9-9d3c83f6c5bb"
      },
      "id": "6LsCBwQ95Exi",
      "execution_count": 47,
      "outputs": [
        {
          "output_type": "stream",
          "name": "stdout",
          "text": [
            "Fail to reject the null hypothesis. No significant evidence of conversion depends on preferred language.\n"
          ]
        }
      ]
    },
    {
      "cell_type": "markdown",
      "source": [
        "###Step 6: Draw inference"
      ],
      "metadata": {
        "id": "qYUvVf2Y5w2M"
      },
      "id": "qYUvVf2Y5w2M"
    },
    {
      "cell_type": "markdown",
      "source": [
        "As the p-value is greater than the significance level 0.05, we can not reject the null hypothesis. Thus, we dont have enough statistical significance to conclude that conversion depends on preferred language."
      ],
      "metadata": {
        "id": "nWu1cGj650Tt"
      },
      "id": "nWu1cGj650Tt"
    },
    {
      "cell_type": "markdown",
      "metadata": {
        "id": "8d585a90"
      },
      "source": [
        "## 4. Is the time spent on the new page same for the different language users?"
      ],
      "id": "8d585a90"
    },
    {
      "cell_type": "markdown",
      "source": [
        "Lets start with visualizing the data first!"
      ],
      "metadata": {
        "id": "qzwtTBYNUEfZ"
      },
      "id": "qzwtTBYNUEfZ"
    },
    {
      "cell_type": "code",
      "source": [
        "# filter data for the new page and get relevant columns\n",
        "df_new_page_data= df[df['landing_page'] == 'new'][['time_spent_on_the_page', 'language_preferred']]\n",
        "\n",
        "# create a box plot\n",
        "plt.figure(figsize=(10, 6))\n",
        "plt.boxplot([group[1] for group in df_new_page_data.groupby('language_preferred')['time_spent_on_the_page']], labels=df_new_page_data['language_preferred'].unique())\n",
        "plt.title('Comparison of Time Spent on the New Page by Preferred Language')\n",
        "plt.xlabel('Preferred Language')\n",
        "plt.ylabel('Time Spent on the Page (minutes)')\n",
        "plt.show()\n"
      ],
      "metadata": {
        "colab": {
          "base_uri": "https://localhost:8080/",
          "height": 564
        },
        "id": "SPxloi5KTlIq",
        "outputId": "bf1f5295-beab-493b-a95d-fc4ba1a18ec3"
      },
      "id": "SPxloi5KTlIq",
      "execution_count": 48,
      "outputs": [
        {
          "output_type": "display_data",
          "data": {
            "text/plain": [
              "<Figure size 1000x600 with 1 Axes>"
            ],
            "image/png": "[encoded data removed]"
          },
          "metadata": {}
        }
      ]
    },
    {
      "cell_type": "code",
      "source": [
        "# calculate the mean time spent on the new page for different language users\n",
        "df_new_page_data.groupby(['language_preferred'])['time_spent_on_the_page'].mean()"
      ],
      "metadata": {
        "colab": {
          "base_uri": "https://localhost:8080/"
        },
        "id": "OV3dKf-5R4rR",
        "outputId": "ad8f497e-beb6-4541-d94b-ea567b99575e"
      },
      "id": "OV3dKf-5R4rR",
      "execution_count": 49,
      "outputs": [
        {
          "output_type": "execute_result",
          "data": {
            "text/plain": [
              "language_preferred\n",
              "English    6.663750\n",
              "French     6.196471\n",
              "Spanish    5.835294\n",
              "Name: time_spent_on_the_page, dtype: float64"
            ]
          },
          "metadata": {},
          "execution_count": 49
        }
      ]
    },
    {
      "cell_type": "markdown",
      "source": [
        "###Step 1: Define the null and alternate hypotheses"
      ],
      "metadata": {
        "id": "PaUVWkSwUbXa"
      },
      "id": "PaUVWkSwUbXa"
    },
    {
      "cell_type": "markdown",
      "source": [
        "Let's write the null and alternative hypothesis\n",
        "\n",
        "Let $\\mu_1, \\mu_2, \\mu_3$ be the means of time spent on the new landing page for preferred languages English, Spanish and French respectively.\n",
        "\n",
        "We will test the null hypothesis\n",
        "\n",
        ">$H_0: \\mu_1 = \\mu_2 = \\mu_3$\n",
        "\n",
        "against the alternative hypothesis\n",
        "\n",
        ">$H_a: $ At least one time spent on the new page is different from the rest."
      ],
      "metadata": {
        "id": "br-Zux9DUiUk"
      },
      "id": "br-Zux9DUiUk"
    },
    {
      "cell_type": "markdown",
      "source": [
        "### Step 2: Select Appropriate test"
      ],
      "metadata": {
        "id": "BjlQ4q3ZVXwI"
      },
      "id": "BjlQ4q3ZVXwI"
    },
    {
      "cell_type": "markdown",
      "source": [
        "To determine if the time spent on the new page is the same for users of different languages, we can perform an analysis of variance (ANOVA) test. This test will help us assess whether there are significant differences in the mean time spent on the new page among users with different preferred languages."
      ],
      "metadata": {
        "id": "-fvcA8MqVYcf"
      },
      "id": "-fvcA8MqVYcf"
    },
    {
      "cell_type": "markdown",
      "source": [
        "### Step 3: Decide the significance level"
      ],
      "metadata": {
        "id": "lf8ID9TDVmL9"
      },
      "id": "lf8ID9TDVmL9"
    },
    {
      "cell_type": "markdown",
      "source": [
        "The significance level is given as 5 % in the problem.\n",
        "\n",
        "Therefore, we choose $\\alpha = 0.05$."
      ],
      "metadata": {
        "id": "VcccOtwtVp57"
      },
      "id": "VcccOtwtVp57"
    },
    {
      "cell_type": "markdown",
      "source": [
        "###Step 4: Calculate the p-value"
      ],
      "metadata": {
        "id": "YFMlcRe6WFAU"
      },
      "id": "YFMlcRe6WFAU"
    },
    {
      "cell_type": "code",
      "source": [
        "from scipy.stats import f_oneway\n",
        "\n",
        "# perform ANOVA test\n",
        "languages = df['language_preferred'].unique()\n",
        "anova_results = {}\n",
        "for lang in languages:\n",
        "    lang_data = df_new_page_data[df_new_page_data['language_preferred'] == lang]['time_spent_on_the_page']\n",
        "    anova_results[lang] = lang_data\n",
        "\n",
        "f_statistic, p_value = f_oneway(*anova_results.values())\n",
        "\n",
        "# Print ANOVA results\n",
        "print(\"ANOVA F-Statistic:\", f_statistic)\n",
        "print(\"P-Value:\", p_value)"
      ],
      "metadata": {
        "colab": {
          "base_uri": "https://localhost:8080/"
        },
        "id": "wIKdIDPaOHfJ",
        "outputId": "c77c1f80-6c40-4953-d1a1-ba2f637596a1"
      },
      "id": "wIKdIDPaOHfJ",
      "execution_count": 50,
      "outputs": [
        {
          "output_type": "stream",
          "name": "stdout",
          "text": [
            "ANOVA F-Statistic: 0.8543992770006822\n",
            "P-Value: 0.43204138694325955\n"
          ]
        }
      ]
    },
    {
      "cell_type": "markdown",
      "source": [
        "### Step 5: Compare the p-value with $\\alpha$"
      ],
      "metadata": {
        "id": "Rmh-izz3XCa_"
      },
      "id": "Rmh-izz3XCa_"
    },
    {
      "cell_type": "code",
      "source": [
        "# interpret the results\n",
        "if p_value < 0.05:\n",
        "    print(\"There are significant differences in time spent on the new page among different language users.\")\n",
        "else:\n",
        "    print(\"There are no significant differences in time spent on the new page among different language users.\")"
      ],
      "metadata": {
        "colab": {
          "base_uri": "https://localhost:8080/"
        },
        "id": "VejZq6WNW119",
        "outputId": "99ca206f-930f-4883-ea52-543e5727d35b"
      },
      "id": "VejZq6WNW119",
      "execution_count": 51,
      "outputs": [
        {
          "output_type": "stream",
          "name": "stdout",
          "text": [
            "There are no significant differences in time spent on the new page among different language users.\n"
          ]
        }
      ]
    },
    {
      "cell_type": "markdown",
      "source": [
        "### Step 6:  Draw inference"
      ],
      "metadata": {
        "id": "M_3uAzKBXLWY"
      },
      "id": "M_3uAzKBXLWY"
    },
    {
      "cell_type": "markdown",
      "source": [
        "As the p-value is greater than the significance level 0.05, we can not reject the null hypothesis. Thus, we dont have enough statistical significance to conclude that time spent on the new page is not same for different language users."
      ],
      "metadata": {
        "id": "EGyUIj_hXQ7S"
      },
      "id": "EGyUIj_hXQ7S"
    },
    {
      "cell_type": "markdown",
      "metadata": {
        "id": "3acbc947"
      },
      "source": [
        "## Conclusion and Business Recommendations"
      ],
      "id": "3acbc947"
    },
    {
      "cell_type": "markdown",
      "metadata": {
        "id": "21fb1063"
      },
      "source": [
        "In the pursuit of expanding its subscriber base, E-news Express conducted a comprehensive analysis of its landing page design and user engagement. Through a well-structured A/B testing approach, the effectiveness of the new landing page was rigorously evaluated. The insights derived from this analysis have provided valuable insights into user behavior and preferences, offering actionable guidance for optimizing the user experience and boosting subscription rates.\n",
        "\n",
        "###Key Findings:\n",
        "\n",
        "  Engagement Enhancement with New Landing Page:\n",
        "\n",
        "  The investigation into user engagement metrics on the old and new landing pages indicated a significant difference in the mean time users spent on the respective pages. The p-value of 0.0001, which is below the chosen significance level of 0.05, allowed us to confidently reject the null hypothesis. This finding emphasizes that users show a higher mean time spent on the new landing page compared to the old page. The enhanced engagement on the new landing page underscores the positive impact of the redesigned outline and more relevant content.\n",
        "\n",
        "  Conversion Rate Boost with New Page:\n",
        "\n",
        "  The analysis of conversion rates between the old and new landing pages revealed a noteworthy trend. With a p-value lower than the significance level of 0.05, we rejected the null hypothesis and established statistical significance. This outcome enables us to conclude that the conversion rate for the new landing page surpasses that of the old landing page. This insight substantiates the efficacy of the new design in encouraging user conversions and subscription actions.\n",
        "\n",
        "  Preferred Language's Influence on Conversion:\n",
        "\n",
        "   Examining the relationship between preferred language and conversion status, the analysis demonstrated a p-value greater than 0.05, leading us to retain the null hypothesis. Consequently, we found insufficient evidence to support the assertion that the preferred language significantly impacts the conversion status. This suggests that the choice of language may not be a decisive factor in user conversion behavior.\n",
        "\n",
        "  Time Spent on New Page by Different Language Users:\n",
        "\n",
        "  The investigation into time spent on the new page among users with different preferred languages yielded a p-value greater than 0.05. Consequently, we failed to reject the null hypothesis, indicating a lack of statistical significance to conclude that time spent on the new page varies significantly based on preferred languages. This insight implies that the new page's engagement potential remains consistent across diverse language preferences.\n",
        "\n"
      ],
      "id": "21fb1063"
    },
    {
      "cell_type": "markdown",
      "source": [
        "###Business Recommendations:\n",
        "\n",
        "  Prioritize New Landing Page Deployment:\n",
        "\n",
        "  The data-driven evidence overwhelmingly supports the adoption of the new landing page design. The increased time spent and enhanced conversion rate on the new page signify its effectiveness in driving user engagement and subscriptions. E-news Express should prioritize the deployment of the new landing page across its platform to capitalize on these positive outcomes.\n",
        "\n",
        "  Continual Monitoring and Iteration:\n",
        "\n",
        "  While the new landing page showcases promising results, it's imperative to maintain a culture of continuous improvement. Regularly monitor user engagement metrics, conversion rates, and user feedback. Use these insights to make iterative adjustments to the landing page's design, content, and user experience.\n",
        "\n",
        "  Language-Neutral Conversion Strategies:\n",
        "\n",
        "  The analysis suggests that preferred language does not significantly impact user conversions. Thus, E-news Express can focus on language-neutral conversion strategies. These strategies may include optimizing the subscription call-to-action, refining content presentation, and leveraging multimedia elements to engage users irrespective of their language preferences.\n",
        "\n",
        "  Personalization and User Segmentation:\n",
        "\n",
        "  While language preference may not directly impact conversion, it's still valuable for personalization. Utilize preferred language information to tailor content recommendations and user experiences. Effective personalization can foster deeper engagement and a sense of user-centricity.\n",
        "\n",
        "In conclusion, E-news Express stands poised to harness the insights gathered from this analysis to propel its growth trajectory. By embracing the new landing page, continuously refining strategies, and leveraging user data, the company can nurture a vibrant community of engaged subscribers and remain at the forefront of the e-news industry."
      ],
      "metadata": {
        "id": "XVtH5IBVip0p"
      },
      "id": "XVtH5IBVip0p"
    },
    {
      "cell_type": "markdown",
      "source": [
        "___"
      ],
      "metadata": {
        "id": "U0dAd4i0iCHo"
      },
      "id": "U0dAd4i0iCHo"
    }
  ]
}